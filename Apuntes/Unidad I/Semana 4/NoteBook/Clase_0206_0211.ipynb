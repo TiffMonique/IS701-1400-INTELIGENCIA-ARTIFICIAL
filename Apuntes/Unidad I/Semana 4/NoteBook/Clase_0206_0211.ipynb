{
  "cells": [
    {
      "cell_type": "markdown",
      "metadata": {
        "id": "RwzV2TBXryRz"
      },
      "source": [
        "\n",
        "___\n",
        "\n",
        "<!--Titulo -->\n",
        "## Clase 0206 Operadores en Python - 18/06/2021\n",
        "___\n",
        "### Operadores lógicos\n",
        "1. AND \n",
        "  * Si el primer elemento del operador AND es Falso el segundo elemento no se evalua o no se intenta ejecutar\n",
        "2. OR\n",
        "  * Si el primer elemento es False evalua directamente el segundo elemento en busqueda de un True\n",
        "3. NOT\n",
        "  * Negar una operación o negar un tipo de valor\n",
        "\n",
        "\n",
        "\n",
        "\n"
      ]
    },
    {
      "cell_type": "code",
      "execution_count": null,
      "metadata": {
        "colab": {
          "base_uri": "https://localhost:8080/"
        },
        "id": "cNAQxKr7sp_b",
        "outputId": "6782ae6c-da3d-4c47-f193-19d66f55bb92"
      },
      "outputs": [
        {
          "name": "stdout",
          "output_type": "stream",
          "text": [
            "------------------- Operador lígco AND -------------------\n",
            "False AND True --> False\n",
            "True AND True --> True\n",
            "False AND Función no creada --> False\n",
            "\n",
            "\n",
            "--------------------- Operador lígco OR --------------------\n",
            "True OR False --> True\n",
            "False OR False --> False\n",
            "True OR Función no creada --> True\n",
            "\n",
            "\n",
            "-------------------- Operador lígco NOT --------------------\n",
            "NOT True --> False\n",
            "NOT False --> True\n"
          ]
        }
      ],
      "source": [
        "#-*- coding: utf-8 -*-\n",
        "\"\"\"\n",
        "----------------------------------------------------------------------------------------------------\n",
        "    \n",
        "  \n",
        "\n",
        "----------------------------------------------------------------------------------------------------\n",
        "    Clase 0206 Operadores en Python \n",
        "----------------------------------------------------------------------------------------------------\n",
        "\"\"\"\n",
        "# Ejemplo operador lógico AND\n",
        "print(\"------------------- Operador lígco AND -------------------\")\n",
        "t = True\n",
        "f = False\n",
        "print(\"False AND True --> {}\".format(f and t))\n",
        "print(\"True AND True --> {}\".format(t and t))\n",
        "print(\"False AND Función no creada --> {}\".format(f and mi_funcion_sin_crear()))\n",
        "print(\"\\n\")\n",
        "\n",
        "print(\"--------------------- Operador lígco OR --------------------\")\n",
        "print(\"True OR False --> {}\" .format(t or f))\n",
        "print(\"False OR False --> {}\" .format(f or f))\n",
        "print(\"True OR Función no creada --> {}\".format(t or mi_funcion_sin_crear()))\n",
        "print(\"\\n\")\n",
        "\n",
        "# Produce error\n",
        "# f or mi_funcion()\n",
        "\n",
        "print(\"-------------------- Operador lígco NOT --------------------\")\n",
        "print(\"NOT True --> {}\" .format(not t))\n",
        "print(\"NOT False --> {}\" .format(not f))\n",
        "print(\"\\n\")"
      ]
    },
    {
      "cell_type": "markdown",
      "metadata": {
        "id": "bLDUnwBuy7mu"
      },
      "source": [
        "\n",
        "### Operadores de igualdad\n",
        "1. Operadores de Equivalencia\n",
        "  * Verifica si 2 valores son equivalentes\n",
        "2. Operadores de Identidad\n",
        "  * Verifica si los identificadores son Aliases, es decir, verifica si dos nombres hacen referecncia al mismo objeto \n"
      ]
    },
    {
      "cell_type": "code",
      "execution_count": null,
      "metadata": {
        "colab": {
          "base_uri": "https://localhost:8080/"
        },
        "id": "hnCiuKQ4y-KM",
        "outputId": "acee429c-1910-4533-9329-0decaad28f91"
      },
      "outputs": [
        {
          "name": "stdout",
          "output_type": "stream",
          "text": [
            "------------- Operador de igualdad Equivalencia -------------\n",
            "a == b --> True\n",
            "a != b --> False\n",
            "\n",
            "\n",
            "--------------- Operador de igualdad Identidad --------------\n",
            "a IS b --> False\n",
            "a IS NOT b --> True\n"
          ]
        }
      ],
      "source": [
        "print(\"------------- Operador de igualdad Equivalencia -------------\")\n",
        "a = [1,2,3]\n",
        "b = [1,2,3]\n",
        "print(\"a == b --> {}\" .format(a == b))\n",
        "print(\"a != b --> {}\" .format(a != b))\n",
        "print(\"\\n\")\n",
        "\n",
        "print(\"--------------- Operador de igualdad Identidad --------------\")\n",
        "a = [1,2,3]\n",
        "b = [1,2,3]\n",
        "print(\"a IS b --> {}\" .format(a is b))\n",
        "print(\"a IS NOT b --> {}\" .format(a is not b))\n",
        "print(\"\\n\")"
      ]
    },
    {
      "cell_type": "markdown",
      "metadata": {
        "id": "9qIZxhugz8tB"
      },
      "source": [
        "### Operadores de comapración\n",
        "1. Menor que y menor igual que\n",
        "2. Mayor que y mayor igual que\n"
      ]
    },
    {
      "cell_type": "code",
      "execution_count": null,
      "metadata": {
        "colab": {
          "base_uri": "https://localhost:8080/"
        },
        "id": "lIoVgvymz9vv",
        "outputId": "6122d378-5e20-46fe-cea1-c1cf4f39c6ae"
      },
      "outputs": [
        {
          "name": "stdout",
          "output_type": "stream",
          "text": [
            "------------- Operador de comparación ------------\n",
            "'Raul' > 'Palma' --> True\n",
            "'Raul' > 'palma' --> False\n"
          ]
        }
      ],
      "source": [
        "print(\"------------- Operador de comparación ------------\")\n",
        "# La R se encuentra después de la P por lo tanto R tendría un identificador mayor\n",
        "print(\"'Raul' > 'Palma' --> {}\" .format('Raul' > 'Palma'))\n",
        "\n",
        "# Las minusculas se encuentran antes de las mayusculas en Py\n",
        "print(\"'Raul' > 'palma' --> {}\" .format('Raul' > 'palma'))\n",
        "print(\"\\n\")"
      ]
    },
    {
      "cell_type": "markdown",
      "metadata": {
        "id": "dMNYtBHqzAnD"
      },
      "source": [
        "### Operadores de aritmeticos\n",
        "1. Suma\n",
        "2. Resta\n",
        "3. División\n",
        "  * \"/\" Devuelve flotantes\n",
        "  * \"//\" Devuelve enteros\n",
        "4. Multiplicación\n",
        "5. Elevar potencias\n",
        "  * \"**\" Se usa para realizar la potencia de un número\n",
        "6. Modulo\n",
        "  * \"%\" Obtiene el resto o residuo de una división"
      ]
    },
    {
      "cell_type": "code",
      "execution_count": null,
      "metadata": {
        "colab": {
          "base_uri": "https://localhost:8080/"
        },
        "id": "wURdOMSAz0dz",
        "outputId": "1196db46-90aa-4e3a-c41b-001abb58fd90"
      },
      "outputs": [
        {
          "name": "stdout",
          "output_type": "stream",
          "text": [
            "--------------- Operador de Aritmetico División --------------\n",
            "5 / 7 --> 0.7142857142857143\n",
            "5 // 7 --> 0\n",
            "\n",
            "\n",
            "----------- Operador de Aritmetico elevar potencias ----------\n",
            "2 ** 4 --> 16\n",
            "\n",
            "\n",
            "---------------- Operador de Aritmetico Modulo ---------------\n",
            "5 % 7 --> 5\n",
            "8 % 7 --> 1\n"
          ]
        }
      ],
      "source": [
        "print(\"--------------- Operador de Aritmetico División --------------\")\n",
        "print(\"5 / 7 --> {}\" .format(5/7))\n",
        "print(\"5 // 7 --> {}\" .format(5//7))\n",
        "print(\"\\n\")\n",
        "\n",
        "print(\"----------- Operador de Aritmetico elevar potencias ----------\")\n",
        "print(\"2 ** 4 --> {}\" .format(2**4))\n",
        "print(\"\\n\")\n",
        "\n",
        "print(\"---------------- Operador de Aritmetico Modulo ---------------\")\n",
        "print(\"5 % 7 --> {}\" .format(5%7))\n",
        "print(\"8 % 7 --> {}\" .format(8%7))\n",
        "print(\"\\n\")"
      ]
    },
    {
      "cell_type": "markdown",
      "metadata": {
        "id": "X8i2-mYa1uYL"
      },
      "source": [
        "### Operadores de Secuencia\n",
        "1. Movilizarse entre los elementos de las listas y tuplas\n"
      ]
    },
    {
      "cell_type": "code",
      "execution_count": null,
      "metadata": {
        "colab": {
          "base_uri": "https://localhost:8080/"
        },
        "id": "VH0s0wqZkuB1",
        "outputId": "36246202-6bf0-4107-84ca-5b70253b3130"
      },
      "outputs": [
        {
          "name": "stdout",
          "output_type": "stream",
          "text": [
            "----------- Operador Secuenciales ----------\n",
            "a = [1,2,3] && b = (4,5,6)\n",
            "Primer objeto a[0] --> 1\n",
            "Último objeto a[-1] --> 3\n",
            "Penúltimo objeto a[-2] --> 2\n",
            "\n",
            "\n",
            "De posición 0 a la posición 1 a[0:2] --> [1, 2]\n",
            "Rangos de posiciones Lista y tupla a[1:3] --> [2, 3] && b(1:3) --> (5, 6)\n",
            "\n",
            "\n",
            "Saltos de dos en dos b[0:3:2] --> (4, 6) \n",
            "Saltos de dos en dos b[0:3:3] --> (4,) \n",
            "\n",
            "\n",
            "Cadena orignal --> b3 = 'Hola'\n",
            "Rangos en cadenas b3[0:2] --> Ho \n",
            "Elementos en una cadena b3[1] --> o \n"
          ]
        }
      ],
      "source": [
        "print(\"----------- Operador Secuenciales ----------\")\n",
        "print(\"a = [1,2,3] && b = (4,5,6)\")\n",
        "a = [1,2,3]\n",
        "b = (4,5,6)\n",
        "\n",
        "print(\"Primer objeto a[0] --> {}\" .format(a[0]))\n",
        "print(\"Último objeto a[-1] --> {}\" .format(a[-1]))\n",
        "print(\"Penúltimo objeto a[-2] --> {}\" .format(a[-2]))\n",
        "print(\"\\n\")\n",
        "\n",
        "# Se resta una unidad del final de los rangos EJ a[0:2] = 1,2\n",
        "print(\"De posición 0 a la posición 1 a[0:2] --> {}\" .format(a[0:2]))\n",
        "print(\"Rangos de posiciones Lista y tupla a[1:3] --> %s && b(1:3) --> %s\" % (a[1:3], b[1:3]))\n",
        "print(\"\\n\")\n",
        "\n",
        "# El tercer parametro es el número de saltos\n",
        "b1 = b[0:3:2]\n",
        "b2 = b[0:3:3]\n",
        "b3 = \"Hola\"\n",
        "b3_1, b3_2 = b3[0:2], b3[1]\n",
        "print(\"Saltos de dos en dos b[0:3:2] --> {} \".format(b1))\n",
        "print(\"Saltos de dos en dos b[0:3:3] --> {} \".format(b2))\n",
        "print(\"\\n\")\n",
        "print(\"Cadena orignal --> b3 = 'Hola'\")\n",
        "print(\"Rangos en cadenas b3[0:2] --> {} \".format(b3_1))\n",
        "print(\"Elementos en una cadena b3[1] --> {} \".format(b3_2))\n",
        "print(\"\\n\")"
      ]
    },
    {
      "cell_type": "markdown",
      "metadata": {
        "id": "TyqVxOJB0MaZ"
      },
      "source": [
        "2. Concatenar listas\n"
      ]
    },
    {
      "cell_type": "code",
      "execution_count": null,
      "metadata": {
        "colab": {
          "base_uri": "https://localhost:8080/"
        },
        "id": "uHOLD1fu0Mx6",
        "outputId": "204fddde-a160-4d13-ee45-b51fc6949ae5"
      },
      "outputs": [
        {
          "name": "stdout",
          "output_type": "stream",
          "text": [
            "Concatenar 2 listas a + b --> [1, 2, 3, 1, 2, 3] \n",
            "Concatenar listas n veces c = [0] * 10 --> [0, 0, 0, 0, 0, 0, 0, 0, 0, 0] \n",
            "\n",
            "\n"
          ]
        }
      ],
      "source": [
        "# Concatenar 2 listas \n",
        "b = [1,2,3]\n",
        "c = a + b \n",
        "print(\"Concatenar 2 listas a + b --> {} \".format(c))\n",
        "\n",
        "# Forma resumida de concatenación\n",
        "c = [0] *10\n",
        "print(\"Concatenar listas n veces c = [0] * 10 --> {} \".format(c))\n",
        "print(\"\\n\")"
      ]
    },
    {
      "cell_type": "markdown",
      "metadata": {
        "id": "TgFxqhCs0dfN"
      },
      "source": [
        "3. Pertenencia en las secuencias"
      ]
    },
    {
      "cell_type": "code",
      "execution_count": null,
      "metadata": {
        "colab": {
          "base_uri": "https://localhost:8080/"
        },
        "id": "YyBqo-Jj0iHu",
        "outputId": "34f08831-3d9a-4398-bd96-072c053c2614"
      },
      "outputs": [
        {
          "name": "stdout",
          "output_type": "stream",
          "text": [
            "----------- Operador de Pertenencia & Secuenciales ----------\n",
            "Conocer si un valor pertenece a la lista 0 in c --> True \n",
            "Conocer si un valor no pertenece a la lista 0 not in c --> False \n"
          ]
        }
      ],
      "source": [
        "print(\"----------- Operador de Pertenencia & Secuenciales ----------\")\n",
        "d = 0 in c\n",
        "print(\"Conocer si un valor pertenece a la lista 0 in c --> {} \".format(d))\n",
        "d = 0 not in c\n",
        "print(\"Conocer si un valor no pertenece a la lista 0 not in c --> {} \".format(d))\n",
        "print(\"\\n\")"
      ]
    },
    {
      "cell_type": "markdown",
      "metadata": {
        "id": "3zfGYwRC0V6M"
      },
      "source": [
        "4. Eliminar un elemento de las listas y tuplas"
      ]
    },
    {
      "cell_type": "code",
      "execution_count": null,
      "metadata": {
        "colab": {
          "base_uri": "https://localhost:8080/"
        },
        "id": "vFUhTA0O0nOw",
        "outputId": "c0242d61-3f1b-4c33-c570-44f9de7958c7"
      },
      "outputs": [
        {
          "name": "stdout",
          "output_type": "stream",
          "text": [
            "Eliminar un elemento en una posición dada del a[1] --> [1] \n",
            "\n",
            "\n"
          ]
        }
      ],
      "source": [
        "# Eliminar un elemento de una lista (La tupla es inmutable NO se puede eliminar)\n",
        "del a[1]\n",
        "print(\"Eliminar un elemento en una posición dada del a[1] --> {} \".format(a))\n",
        "print(\"\\n\")"
      ]
    },
    {
      "cell_type": "markdown",
      "metadata": {
        "id": "W4kbzOtS3UZX"
      },
      "source": [
        "### Operadores de Pertenencia en Set, FrozenSet & Dict\n",
        "1. IN\n",
        "2. NOT IN\n"
      ]
    },
    {
      "cell_type": "code",
      "execution_count": null,
      "metadata": {
        "colab": {
          "base_uri": "https://localhost:8080/"
        },
        "id": "_XHPFeaR3d3x",
        "outputId": "edfdb6e9-9855-42f7-e0b5-c852b218c6e0"
      },
      "outputs": [
        {
          "name": "stdout",
          "output_type": "stream",
          "text": [
            "----------- Operador de Pertenencia SET ----------\n",
            "Set original --> frozenset({'a', 'b', 'c'})\n",
            "Si b pertenece a el set b in a --> True \n",
            "Si z pertenece a el set z in a --> False \n",
            "Si z no pertenece a el set z in a --> True \n",
            "\n",
            "\n",
            "----------- Operador de Pertenencia FROZENSET ----------\n",
            "Frozenset original --> frozenset({'a', 'b', 'c'})\n",
            "Si b pertenece a el frozenset b in a --> True \n",
            "Si z pertenece a el frozenset z in a --> False \n"
          ]
        }
      ],
      "source": [
        "print(\"----------- Operador de Pertenencia SET ----------\")\n",
        "a = {'a', 'b', 'c'}\n",
        "print(\"Set original --> frozenset({'a', 'b', 'c'})\")\n",
        "d = 'b' in a\n",
        "print(\"Si b pertenece a el set b in a --> {} \".format(d))\n",
        "d ='z' in a\n",
        "print(\"Si z pertenece a el set z in a --> {} \".format(d))\n",
        "d ='z' not in a\n",
        "print(\"Si z no pertenece a el set z in a --> {} \".format(d))\n",
        "print(\"\\n\")\n",
        "\n",
        "print(\"----------- Operador de Pertenencia FROZENSET ----------\")\n",
        "a = frozenset({'a', 'b', 'c'})\n",
        "print(\"Frozenset original --> frozenset({'a', 'b', 'c'})\")\n",
        "d = 'b' in a\n",
        "print(\"Si b pertenece a el frozenset b in a --> {} \".format(d))\n",
        "d ='z' in a\n",
        "print(\"Si z pertenece a el frozenset z in a --> {} \".format(d))\n",
        "print(\"\\n\")"
      ]
    },
    {
      "cell_type": "markdown",
      "metadata": {
        "id": "YsLXpt7J5x04"
      },
      "source": [
        "3. Actualizar y crear elementos en un objeto diccionario"
      ]
    },
    {
      "cell_type": "code",
      "execution_count": null,
      "metadata": {
        "colab": {
          "base_uri": "https://localhost:8080/"
        },
        "id": "EMeFqzaY5yc_",
        "outputId": "e7b56a32-42b1-49af-dbd9-8434ef169d1e"
      },
      "outputs": [
        {
          "name": "stdout",
          "output_type": "stream",
          "text": [
            "----------- Operador de Pertenencia Objetos|dict ----------\n",
            "Objeto original --> a = {'a':1, 5:'hola'}\n",
            "Actualizar el valor de una llave de un dict a['a'] --> adios \n",
            "Crear una nueva llave:valor de un dict a['c'] = 1234 --> {'a': 'adios', 5: 'hola', 'c': 1234} \n"
          ]
        }
      ],
      "source": [
        "print(\"----------- Actualizar o crear elementos Objetos|dict ----------\")\n",
        "# Los diccionarios solo pueden tener objetos inmutables en sus valores\n",
        "a = {'a':1, 5:\"hola\"}\n",
        "print(\"Objeto original --> a = {'a':1, 5:'hola'}\")\n",
        "\n",
        "# Los diccionarios son mutables, se puede cambiar el valor de una llave\n",
        "d = a['a'] = \"adios\"\n",
        "print(\"Actualizar el valor de una llave de un dict a['a'] --> {} \".format(d))\n",
        "a['c'] = 1234\n",
        "print(\"Crear una nueva llave:valor de un dict a['c'] = 1234 --> {} \".format(a))\n",
        "print(\"\\n\")"
      ]
    },
    {
      "cell_type": "markdown",
      "metadata": {
        "id": "4HBplQRF70CK"
      },
      "source": [
        "4. Operadores de igualdad en los Objetos|dict"
      ]
    },
    {
      "cell_type": "code",
      "execution_count": null,
      "metadata": {
        "colab": {
          "base_uri": "https://localhost:8080/"
        },
        "id": "nIsZ4pXE7-w6",
        "outputId": "7b24fef4-d30c-469f-c4a4-49e4742c1c30"
      },
      "outputs": [
        {
          "name": "stdout",
          "output_type": "stream",
          "text": [
            "----------- Operador de igualdad Objetos|dict ----------\n",
            "Objeto original --> a = {'a':1, 5:'hola'}\n",
            "Objeto original --> b = {'a':1, 5:'hola'}\n",
            "a == b --> True \n",
            "a != b --> False \n",
            "\n",
            "\n"
          ]
        }
      ],
      "source": [
        "print(\"----------- Operador de igualdad Objetos|dict ----------\")\n",
        "a = {'a':1, 5:\"hola\"}\n",
        "b = {'a':1, 5:\"hola\"}\n",
        "print(\"Objeto original --> a = {'a':1, 5:'hola'}\")\n",
        "print(\"Objeto original --> b = {'a':1, 5:'hola'}\")\n",
        "\n",
        "print(\"a == b --> {} \".format(a==b))\n",
        "print(\"a != b --> {} \".format(a!=b))\n",
        "print(\"\\n\")"
      ]
    },
    {
      "cell_type": "markdown",
      "metadata": {
        "id": "uzHHDrm_9mEz"
      },
      "source": [
        "5. Eliminar elementos (conjunto clave:valor) de un objeto"
      ]
    },
    {
      "cell_type": "code",
      "execution_count": null,
      "metadata": {
        "colab": {
          "base_uri": "https://localhost:8080/"
        },
        "id": "rauPCQbL9tog",
        "outputId": "80a833ab-2a57-456a-f283-8da4169a05cc"
      },
      "outputs": [
        {
          "name": "stdout",
          "output_type": "stream",
          "text": [
            "----------- Elminar elemento Objetos|dict ----------\n",
            "Objeto original --> a = {'a':1, 5:'hola'}\n",
            "Objeto original --> b = {'a':1, 5:'hola'}\n",
            "del a['a']--> {5: 'hola'} \n",
            "\n",
            "\n"
          ]
        }
      ],
      "source": [
        "print(\"----------- Elminar elemento Objetos|dict ----------\")\n",
        "a = {'a':1, 5:\"hola\"}\n",
        "b = {'a':1, 5:\"hola\"}\n",
        "print(\"Objeto original --> a = {'a':1, 5:'hola'}\")\n",
        "print(\"Objeto original --> b = {'a':1, 5:'hola'}\")\n",
        "del a['a']\n",
        "print(\"del a['a']--> {} \".format(a))\n",
        "print(\"\\n\")"
      ]
    },
    {
      "cell_type": "markdown",
      "metadata": {
        "id": "_rBjrk2Y-LBw"
      },
      "source": [
        "6. Operadores de pertenencia en los Objetos"
      ]
    },
    {
      "cell_type": "code",
      "execution_count": null,
      "metadata": {
        "colab": {
          "base_uri": "https://localhost:8080/"
        },
        "id": "Gawh2Mxq-Pv8",
        "outputId": "2d4c7ae9-47a1-400a-b11b-0c46823b29cb"
      },
      "outputs": [
        {
          "name": "stdout",
          "output_type": "stream",
          "text": [
            "----------- Operador de pertenencia Objetos|dict ----------\n",
            "Objeto original --> a = {'a':1, 5:'hola'}\n",
            "Objeto original --> b = {'a':1, 5:'hola'}\n",
            "'a' IN a --> True \n",
            "'x' NOT IN b --> True \n",
            "\n",
            "\n"
          ]
        }
      ],
      "source": [
        "print(\"----------- Operador de pertenencia Objetos|dict ----------\")\n",
        "a = {'a':1, 5:\"hola\"}\n",
        "b = {'a':1, 5:\"hola\"}\n",
        "print(\"Objeto original --> a = {'a':1, 5:'hola'}\")\n",
        "print(\"Objeto original --> b = {'a':1, 5:'hola'}\")\n",
        "\n",
        "print(\"'a' IN a --> {} \".format('a' in a))\n",
        "print(\"'x' NOT IN b --> {} \".format('z' not in b))\n",
        "print(\"\\n\")"
      ]
    },
    {
      "cell_type": "markdown",
      "metadata": {
        "id": "fDLzc7cB-1-J"
      },
      "source": [
        "### Longitud de secuencias, conjuntos y diccionarios\n",
        "* Se utiliza 'len' para obtener el largo de una secuencia, conjuto o *diccionario*\n"
      ]
    },
    {
      "cell_type": "code",
      "execution_count": null,
      "metadata": {
        "colab": {
          "base_uri": "https://localhost:8080/"
        },
        "id": "zJSgj-x3_CZ-",
        "outputId": "113ed1d4-bc10-4e86-a61b-8e0cdb4689f9"
      },
      "outputs": [
        {
          "name": "stdout",
          "output_type": "stream",
          "text": [
            "----------- Longitud de secuencias, conjuntos y diccionarios ----------\n",
            "len(a) --> 2 \n",
            "len({1,2,3}) --> 3 \n",
            "len({1:3,2:4,3:5}) --> 3 \n",
            "len('Fall Out'--> 8 \n",
            "\n",
            "\n"
          ]
        }
      ],
      "source": [
        "print(\"----------- Longitud de secuencias, conjuntos y diccionarios ----------\")\n",
        "print(\"len(a) --> {} \".format(len(a)))\n",
        "d = len({1,2,3})\n",
        "print(\"len({1,2,3}) --> %s \" % d)\n",
        "d = len({1:3,2:4,3:5})\n",
        "print(\"len({1:3,2:4,3:5}) --> %s \" % d)\n",
        "d = len(\"Fall Out\")\n",
        "print(\"len('Fall Out'--> %s \" % d)\n",
        "print(\"\\n\")"
      ]
    },
    {
      "cell_type": "markdown",
      "metadata": {
        "id": "XrnZV4-dPEeZ"
      },
      "source": [
        "___\n",
        "<!--Titulo -->\n",
        "## 0207 Control de flujo - 19/06\n",
        "___"
      ]
    },
    {
      "cell_type": "markdown",
      "metadata": {
        "id": "sy16thPSPKa9"
      },
      "source": [
        "### Bloques de decisión\n",
        "* **No** existe un equivalente al **switch** de **Java**\n",
        "* Python intenta convertir los tipos no booleanos a booleanos\n",
        "\n",
        "\n",
        "\n",
        "```\n",
        "if respuesta: \n",
        "```\n",
        "es equivalente a:\n",
        "```\n",
        "if respuesta != '':\n",
        "```\n",
        "\n",
        "\n",
        "\n",
        "* Estructra del bloque de decisión en Py\n",
        "\n",
        "\n",
        "```\n",
        "if primera_condición:\n",
        "  primer_cuerpo\n",
        "elif segunda_condición:\n",
        "  segundo_cuerpo\n",
        "elif tercera_condición:\n",
        "  tercer_cuerpo\n",
        "else: \n",
        "  cuarto cuerpo\n",
        "```\n",
        "\n"
      ]
    },
    {
      "cell_type": "markdown",
      "metadata": {
        "id": "qHBfV0gZYHu3"
      },
      "source": [
        "### Bloques de Repetición\n",
        "* El recorrido de un iterable consta de 2 elementos: \n",
        "  1. Identificador o un nombre que hace referencia a cada uno de los elementos del segundo elemento (iterable)\n",
        "  2. Iterable, es un objeto que se puede iterar Ej: Secuencias (listas, tuplas, str)\n",
        "\n",
        "* Cuando se quiere recorrer una secuencia hasta un punto en concreto, es decir, se quiere hacer un **número fijo de iteraciones** \n",
        "\n",
        "* **range** recibe hasta 3 argumentos que implican\n",
        "\n",
        "```\n",
        "range(start, stop, step)\n",
        "```\n",
        "\n",
        "\n"
      ]
    },
    {
      "cell_type": "code",
      "execution_count": null,
      "metadata": {
        "colab": {
          "base_uri": "https://localhost:8080/"
        },
        "id": "otmi4BOdQk8E",
        "outputId": "087768e0-e42b-4b82-dac8-188cb695c55a"
      },
      "outputs": [
        {
          "name": "stdout",
          "output_type": "stream",
          "text": [
            "----------- Bloque de repetición ----------\n",
            "Recorrer una lista con 'for in lista'\n",
            "1\n",
            "2\n",
            "3\n",
            "\n",
            "\n",
            "Recorrer una lista con 'for in range(len(lista))'\n",
            "1\n",
            "2\n",
            "3\n",
            "\n",
            "\n",
            "Recorrer una lista con 'range(0, len(lista), 2)'\n",
            "1\n",
            "3\n",
            "\n",
            "\n",
            "Recorrer una lista con 'while i < len(lista)'\n",
            "1\n",
            "2\n",
            "3\n",
            "\n",
            "\n"
          ]
        }
      ],
      "source": [
        "#-*- coding: utf-8 -*-\n",
        "\"\"\"\n",
        "----------------------------------------------------------------------------------------------------\n",
        "    \n",
        "   \n",
        "\n",
        "----------------------------------------------------------------------------------------------------\n",
        "    Control de flujo - Bloques de decisión & Bloques de repetición\n",
        "----------------------------------------------------------------------------------------------------\n",
        "\"\"\"\n",
        "\n",
        "print(\"----------- Bloque de repetición ----------\")\n",
        "\n",
        "lista = [1,2,3]\n",
        "\n",
        "print(\"Recorrer una lista con 'for in lista'\")\n",
        "for e in lista: \n",
        "  print(e)\n",
        "print(\"\\n\")\n",
        "\n",
        "\n",
        "print(\"Recorrer una lista con 'for in range(len(lista))'\")\n",
        "for i in range(len(lista)):\n",
        "  print(lista[i])\n",
        "print(\"\\n\")\n",
        "\n",
        "print(\"Recorrer una lista con 'range(0, len(lista), 2)'\")\n",
        "for i in range(0, len(lista), 2):\n",
        "  print(lista[i])\n",
        "print(\"\\n\")\n",
        "\n",
        "\n",
        "print(\"Recorrer una lista con 'while i < len(lista)'\")\n",
        "i = 0\n",
        "while i < len(lista):\n",
        "  print(lista[i])\n",
        "  i += 1\n",
        "print(\"\\n\")"
      ]
    },
    {
      "cell_type": "markdown",
      "metadata": {
        "id": "EHkivEJoLG_f"
      },
      "source": [
        "+ Los bloques de repetición en Py soportan **break** y **continue** las cuales permiten interrumpir la iteración actual o el ciclo completamente (No se recomienda porque complica la legibilidad del código) \n",
        "  1. **break** Detiene la ejecución del ciclo por completo\n",
        "  2. **continue** Detiene la ejecución de la iteración actual (el código que se encuentre debajo del continue que sea del nivel del ciclo no se ejecutará) "
      ]
    },
    {
      "cell_type": "code",
      "execution_count": null,
      "metadata": {
        "colab": {
          "base_uri": "https://localhost:8080/"
        },
        "id": "erXGWZmwLfFr",
        "outputId": "b1cd6e39-335b-4898-931d-d2b674ab4ac4"
      },
      "outputs": [
        {
          "name": "stdout",
          "output_type": "stream",
          "text": [
            "----------- Buscar un valor y parar al encontrarlo ----------\n",
            "Se encontro el objetivo = 2, en datos = [1, 2, 3] \n",
            "\n",
            "\n"
          ]
        }
      ],
      "source": [
        "print(\"----------- Buscar un valor y parar al encontrarlo ----------\")\n",
        "encontrado = False\n",
        "datos = [1,2,3]\n",
        "objetivo = 2\n",
        "\n",
        "for e in datos:\n",
        "  if e == objetivo:\n",
        "    encontrado = True\n",
        "    print(\"Se encontro el objetivo = %i, en datos = %s \" % (objetivo, [1,2,3]))\n",
        "    break \n",
        "  \n",
        "print(\"\\n\")"
      ]
    },
    {
      "cell_type": "markdown",
      "metadata": {
        "id": "AUsIggbesmyG"
      },
      "source": [
        "___\n",
        "<!--Titulo -->\n",
        "## 0208 Funciones y paso de parametros - 19/06\n",
        "___"
      ]
    },
    {
      "cell_type": "markdown",
      "metadata": {
        "id": "KQWLH_2Jsul9"
      },
      "source": [
        "### Funciones\n",
        "\n",
        "* En python existen funciones y métodos, no se deben confundir, los **métodos pertenecen a una clase** las **funciones no**. Si una **función no tiene un return** entonces retornará **None**.\n",
        "\n",
        "* La palabra reservada **return es opcional** en una función, las funciones sin return \n",
        "\n",
        "* La función **count** sirve para contar la cantidad de veces que aparece un **target** dentro de un conjunto de datos **data** \n",
        "\n",
        "* Las funciones pueden ser llamadas en cualquier lugar del código (antes o después de escribir la función)\n",
        "\n",
        "\n"
      ]
    },
    {
      "cell_type": "code",
      "execution_count": null,
      "metadata": {
        "colab": {
          "base_uri": "https://localhost:8080/"
        },
        "id": "X84ivaLa0QdE",
        "outputId": "b03b8737-dacc-4c33-ea5c-2118fb1ae874"
      },
      "outputs": [
        {
          "name": "stdout",
          "output_type": "stream",
          "text": [
            "----------- Función de 'count' ----------\n"
          ]
        },
        {
          "data": {
            "text/plain": [
              "1"
            ]
          },
          "execution_count": 10,
          "metadata": {
            "tags": []
          },
          "output_type": "execute_result"
        }
      ],
      "source": [
        "#-*- coding: utf-8 -*-\n",
        "\"\"\"\n",
        "----------------------------------------------------------------------------------------------------\n",
        "    \n",
        "    \n",
        "\n",
        "----------------------------------------------------------------------------------------------------\n",
        "    Funciones y paso de parametros\n",
        "----------------------------------------------------------------------------------------------------\n",
        "\"\"\"\n",
        "print(\"----------- Función de 'count' propia ----------\")\n",
        "target = 2\n",
        "data = [1,2,3]\n",
        "\n",
        "def count(data, target):\n",
        "    n = 0\n",
        "    for item in data:\n",
        "      if item == target:\n",
        "          n+=1\n",
        "    return n\n",
        "\n",
        "# identificadores de los parametros de la función\n",
        "count(data, target)"
      ]
    },
    {
      "cell_type": "markdown",
      "metadata": {
        "id": "63gXpir53L_s"
      },
      "source": [
        "### Paso de Parametros\n",
        "* Los parametros se dividen en 2 tipos de parametros:\n",
        "  1. Formales: Son los identificadores que están en el prototipo de la función (Ej (data, target) \n",
        "  2. Actuales: Son los que se le envían a la función al momento de llamarla (Ej count(grades, 'A'))\n",
        "\n",
        "* El paso de parámetros sigue la semántica del enunciado de asignación.\n",
        "\n"
      ]
    },
    {
      "cell_type": "code",
      "execution_count": null,
      "metadata": {
        "colab": {
          "base_uri": "https://localhost:8080/"
        },
        "id": "6cjFEtzP4Mp5",
        "outputId": "4e3a0e61-cc01-48e7-fb39-5a485349e8b8"
      },
      "outputs": [
        {
          "name": "stdout",
          "output_type": "stream",
          "text": [
            "----------- Función de 'count' clase ----------\n",
            "1\n"
          ]
        }
      ],
      "source": [
        "print(\"----------- Función de 'count' clase ----------\")\n",
        "target = 'A'\n",
        "grades = ['A','B','C']\n",
        "data = grades\n",
        "\n",
        "def count(data, target):\n",
        "    n = 0\n",
        "    for item in data:\n",
        "      if item == target:\n",
        "          n+=1\n",
        "    return n\n",
        "\n",
        "# identificadores de los parametros de la función\n",
        "prizes = count(data, target) # Equivalente a \"count(grades, 'A')\"\n",
        "print(prizes)"
      ]
    },
    {
      "cell_type": "markdown",
      "metadata": {
        "id": "7GtZ9lS-5E2J"
      },
      "source": [
        "### Parámetros mutables\n",
        "\n",
        "* Los objetos mutbales pueden ser modificados dentro de una función (Los valores de los parámetros se pueden modificar si son mutables)\n",
        "\n",
        "* Hay que considerar si a un parámetro de una función se le asina un nuevo objeto, esto **no modifica al original**, simplemente se estaria **rompiendo el alias**"
      ]
    },
    {
      "cell_type": "code",
      "execution_count": null,
      "metadata": {
        "colab": {
          "base_uri": "https://localhost:8080/"
        },
        "id": "mTe5a56H67D6",
        "outputId": "cfb6e79b-9894-43ee-ea5d-b2dc815d7342"
      },
      "outputs": [
        {
          "name": "stdout",
          "output_type": "stream",
          "text": [
            "----------- Función de 'scale' ----------\n"
          ]
        },
        {
          "data": {
            "text/plain": [
              "[3, 6, 9]"
            ]
          },
          "execution_count": 21,
          "metadata": {
            "tags": []
          },
          "output_type": "execute_result"
        }
      ],
      "source": [
        " print(\"----------- Función de 'scale' ----------\")\n",
        "factor = 3 \n",
        "data = [1,2,3]\n",
        "\n",
        "def scale(data, factor):\n",
        "    for j in range(len(data)):\n",
        "      data[j] *= factor\n",
        "    return data\n",
        "scale(data, factor) \n"
      ]
    },
    {
      "cell_type": "markdown",
      "metadata": {
        "id": "xWgWZmUG9N4s"
      },
      "source": [
        "### Parámetros por defecto\n",
        "\n",
        "* Py permite la definición de parámetros por defecto\n",
        "\n",
        "\n",
        "```\n",
        "# def foo(a, b=15, c=27)\n",
        "  ...\n",
        "foo (a)\n",
        "```\n",
        "\n",
        "\n",
        "\n",
        "* Hay que considerar que si un parámetro se define con un valor por defecto, todos los siguientes también tienen que tenerlo"
      ]
    },
    {
      "cell_type": "markdown",
      "metadata": {
        "id": "LB3HXnyg95Y5"
      },
      "source": [
        "### Parámetros por palabra clave\n",
        "\n",
        "* Para el envío de parámetros por palabra clave, lo único que se necesita es una asignación de forma explícita de los parámetros actuales a los parámetros formales utilizando su nombre\n",
        "\n",
        "* Usado principalmente cuando se tienen funciones que reciben muchos parámetros y se vuelve muy complejo enviarlos por posición \n",
        "\n",
        "* Permite enviarlos en cualquier orden \n",
        "\n",
        "```\n",
        "# def set_alarm(day, month, year, hour, minutes)\n",
        "  ...\n",
        "set_alarm(year=2019, month=1, day=31, minutes=15, hour=10)\n",
        "```\n",
        "\n"
      ]
    },
    {
      "cell_type": "markdown",
      "metadata": {
        "id": "d2XdElmOp-wK"
      },
      "source": [
        "___\n",
        "<!--Titulo -->\n",
        "## 0209 Manejo de excepciones - 20/06\n",
        "___"
      ]
    },
    {
      "cell_type": "markdown",
      "metadata": {
        "id": "MmRELpVoqigh"
      },
      "source": [
        "### Excepciones en Py\n",
        "___\n",
        "* Las excepciones son **objetos** que son ***lanzados*** en el código cuando se encuentra una circunstancia ***excepcional*** (fuera de la ejecución ordinaria del programa), como por ejemplo el agotamiento de la memoria, otro ejemplo puede ser cuando se trata de guardar un archivo y ya no hay espacio en disco\n",
        "\n",
        "* Las excepciones pueden ser ***capturadas*** por un contexto que pueda manejarla de la forma adecuada. Si una excepción es ***capturada***, entonces esta causará que el intérprete termine la ejecución del programa\n",
        "\n",
        "* Ayudan a la legibilidad del código al evitar el tener que poner muchos ***if*** para determinar que sucede o que no sucede\n",
        "\n",
        "* Las excepciones las puede ***lanzar***:\n",
        "  1. El interprete del lenguaje, Ej en la consola de Py escribir \"0/2\"\n",
        "  2. El programador, Ej Lanzar una excepción al notar una circunstancia excepcional \n",
        "  3. Librerias invocada, Ej Invocar una libreria con los parámetros incorrectos producirá una excepción\n",
        "\n",
        "* Las excepciones además de ser ***lanzadas*** deben ser **capturadas**, si las excepciones **no son capturadas** la ejecución del programa es detenida por el interprete, por lo tanto se deben capturar en algún contexto\n",
        "\n",
        "#### Ejemplos de excepciones\n",
        "| Nombre de la excepción | Cuando ocurre |Ejemplo|\n",
        "|------------------------|---------------|-------|\n",
        "| NameError|Usar un identificador inexistente| Imprimir \"z\" cuando z no tienen ningún valor|\n",
        "|IndexError|Acceder a un indice fuera del rango permitido en una secuencia| Acceder al elemento 100 de una lista con 5 elementos|\n",
        "| TypeError|Enviar un parámetro del tipo incorrecto a una función| Una función espera un string y recibe un entero|\n",
        "| AtributeError| En la sintaxis **obj.met()**, el objeto ***obj*** **no tiene** un miembro que se llame **met**| Cuando se hace el llamado de un método que no exista en la clase |\n",
        "|ZeroDivisionError| Dividir entre 0| Cuando en el interprete se divide \"2/0\"|\n",
        "|ValueError| Enviar parámetro con valor inválido aunque su tipo sea correcto |**sqrt()** espera que se envien enteros o flotantes **sqrt(-5)**|\n",
        "|IOError| Errpr en alguna operación de entrada y salida| Cuando se da un error al escribir o leer un archivo|\n",
        "\n",
        "* Para **lanzar excepciones** en py se utiliza la palabra reservada **raise** (en otros lenguajes se utiliza **trow**)\n",
        "* Función **isinstance** recibe como parámetro 2 elementos:\n",
        "  1. Valor, variable u objeto a evaluar el tipo de dato\n",
        "  2. Tipo de dato que se epera que sea el primer parámetro\n",
        "\n",
        "\n"
      ]
    },
    {
      "cell_type": "code",
      "execution_count": null,
      "metadata": {
        "id": "BK8ifNjkvPYj"
      },
      "outputs": [],
      "source": [
        "#-*- coding: utf-8 -*-\n",
        "\"\"\"\n",
        "----------------------------------------------------------------------------------------------------\n",
        "   \n",
        "\n",
        "----------------------------------------------------------------------------------------------------\n",
        "    Manejo de excepciones\n",
        "----------------------------------------------------------------------------------------------------\n",
        "\"\"\"\n",
        "\n",
        "import collections\n",
        "\n",
        "# Sumar \"values\", se espera que values sean valores iterables\n",
        "def sum(values):\n",
        "\n",
        "  # Evaluar el tipo de dato de values\n",
        "  if not isinstance(values, collections.Iterable):\n",
        "    # Lanzar exepción del tipo TypeError\n",
        "    raise TypeError('Values must be Iterable')\n",
        "  total = 0\n",
        "\n",
        "  # Revisar que cada elemento de values sea un entero o flotante\n",
        "  for v in values:\n",
        "    if not isinstance(v, (int, float)):\n",
        "      raise TypeError('Elements must be numeric')\n",
        "    total = total + v\n",
        "  return total"
      ]
    },
    {
      "cell_type": "markdown",
      "metadata": {
        "id": "vg7lrSnByMj1"
      },
      "source": [
        "* La captura de excepciones en Py se hace usando **try & except** en otros lenguajes se usa ***try & catch***\n",
        "* **e** hace referencia a un objeto excepción lanzado en la función ***sum***\n",
        "* En el **except** se hace el **manejo** de las excepciones, lo óptimo sería tratar de corregir el problema y volver a ejecutar el código, pero sino, lo que se suele hacer es **almacenar el error en un archivo o imprimir un mensaje** de que se lanzo la excepción para que el programador o un usuario pueda darse cuenta que un error ha ocurrido.   "
      ]
    },
    {
      "cell_type": "code",
      "execution_count": null,
      "metadata": {
        "colab": {
          "base_uri": "https://localhost:8080/"
        },
        "id": "47XoDjB40hVL",
        "outputId": "44b0dd10-02d3-40e3-942e-f15c20fc1f0f"
      },
      "outputs": [
        {
          "name": "stdout",
          "output_type": "stream",
          "text": [
            "----------- Capturar excepciones ----------\n",
            "Se recibió una excepción tipo TypeError \n",
            "--> Elements must be numeric\n"
          ]
        }
      ],
      "source": [
        "print(\"----------- Capturar excepciones ----------\")\n",
        "try:\n",
        "  sum(['a','b'])\n",
        "\n",
        "except TypeError as e:\n",
        "  # Se puede relanzar la misma excepción con raise\n",
        "  print(\"Se recibió una excepción tipo TypeError \\n--> {}\".format(e))"
      ]
    },
    {
      "cell_type": "markdown",
      "metadata": {
        "id": "prkwxg4S0mdZ"
      },
      "source": [
        "___\n",
        "<!--Titulo -->\n",
        "## 0210 Módulos - 20/06\n",
        "___"
      ]
    },
    {
      "cell_type": "markdown",
      "metadata": {
        "id": "nfDDqoc_2SsZ"
      },
      "source": [
        "### Módulos en Py\n",
        "___\n",
        "* Los módulos permiten agrupar definiciones y enunciados relacionados entre sí\n",
        "* La finalidad de tener módulos es que el código esté organizado y sea comprensible\n",
        "* Hay módulos que requieren que se instalen paquetes externos, es decir, no vienen junto a la instalación de py, Ej El paquete **numpy** que permite tener acceso a varios módulos\n",
        "* Para instalar módulos externos se utilizan gestores de paquetes en py como **pip3**\n",
        "\n",
        "#### Ejemplo módulo **math**\n",
        "* Por ejemplo, existe un módulo llamado **math** que agrupa funcionalidades matemáticas. Se usan las palabras **from e import** para importar definiciones de un modulo, ya se tiene acceso a dicho módulo sólo con instalar py  \n",
        "\n",
        "* Se pueden llamar a las funcionalidades matemáticas pi y sqrt haciendo el llamado al módulo math\n",
        "```\n",
        "from math import pi, sqrt\n",
        "```\n",
        "* También se pueden importar todas las definiciones de un módulo (si antes se tenía una variable con el nombre de alguna definición del módulo al que se importan todas las definiciones, dicha variable se sobre escribirá), solo se debe utilizar cuando se hacen pruebas o se quieren resultados rápidos:\n",
        "```\n",
        "from math import *\n",
        "```\n",
        "* Se puede importar solamente el módulo, para luego acceder a sus definiciones a través de su nombre (Forma más segura de importar módulos)\n",
        "```\n",
        "import math\n",
        "...\n",
        "math.pi\n",
        "```\n",
        "\n",
        "#### Cración de módulos\n",
        "* Para crear un módulo simplemente hay que colocar todas las definiciones que se desee colocar dentro de él (función, variables, clases, etc.) y guardarlas en un archivo con extensión **.py**\n",
        "* Este archivo se coloca por simplicidad en el mismo directorio donde está ubicado el archivo que lo va a utilizar (importar) \n",
        "\n",
        "#### Paquetes \n",
        "* Permite crear directorios, para almacenar y agrupar módulos. \n",
        "\n",
        "#### Módulo como Scripts\n",
        "* Todo el código del módulo será ejecutado por defecto cuando el módulo se importe desde otro lugar. Para evitar que se ejecute cierto código se ejecuta dentro del siguiente condicional:\n",
        "```\n",
        "if __name__ == '__main__':\n",
        "```\n",
        "* De está forma, el código de if sólo se ejecutará cuando el módulo sea ejecutado directamente, \n",
        "* Para invocar un módulo o ejecutar directamente el código de un módulo se escribe en la terminal el llamado a dicho módulo:\n",
        "```\n",
        "python3 mimodulo.py\n",
        "```\n",
        "* En Py **no existe un módulo main** o que tenga el nombre de main, a los módulos se les puede poner cualquier nombre y dicho módulo será el principal simplemente porque se invoca a dicho módulo primero\n",
        "\n",
        "[texto del enlace](https://)"
      ]
    },
    {
      "cell_type": "markdown",
      "metadata": {
        "id": "eKUygf_fckc-"
      },
      "source": [
        "___\n",
        "<!--Titulo -->\n",
        "## 0211 Clases y Herencias - 21/06\n",
        "___"
      ]
    },
    {
      "cell_type": "markdown",
      "metadata": {
        "id": "BkNPIhwhcnBR"
      },
      "source": [
        "* Para los nombres de las clases se usa la nomenclatura CamellCase\n",
        "* Luego de definir el nombre de la clase, se coloca un doc string o una cadena de texto de documentación que sirve para documentar para que sirve dicha clase\n",
        "* Los métodos de las clases tambipen se definen con **def**\n",
        "* El constructor de la clase se llama **__ init __** el cual también posee un doc string\n",
        "* Las propiedades y atributos se definen en el constructor de la clase a la hora de inicializarlos\n",
        "* Se suele utilizar un guión bajo para definir a un atributo protegido, es decir, no debe ser accedido desde fuera de la clase, sino solamente por métodos internos o clases que hereden de esta clase \n",
        "* En py no hay modificadores de accesibilidad (no existe private, protected, public)\n",
        "* Se utiliza la palabra reservada **self** para definir que un atributo o propiedad pertenece a la clase, sino se considera solamente una variable que no pudiese ser accedida desde afuera\n",
        "* Es obligatorio que todos los métodos de una clase reciban **self** como parámetro, dado que es la única forma de obtener los atributos de la clase\n"
      ]
    },
    {
      "cell_type": "code",
      "execution_count": 7,
      "metadata": {
        "id": "DTl-8a4scmEd"
      },
      "outputs": [],
      "source": [
        "#-*- coding: utf-8 -*-\n",
        "\"\"\"\n",
        "----------------------------------------------------------------------------------------------------\n",
        "    \n",
        "   \n",
        "\n",
        "----------------------------------------------------------------------------------------------------\n",
        "    Clases y Herencia\n",
        "----------------------------------------------------------------------------------------------------\n",
        "\"\"\"\n",
        "\n",
        "class CreditCard:\n",
        "    \"\"\" Una tarjeta de Crédito\"\"\"\n",
        "\n",
        "    def __init__(self, customer, bank, acnt, limit):\n",
        "        \"\"\" El balance inicial es cero \n",
        "        customer --> Nombre del cliente (Ej. 'John Bowman')\n",
        "        bank --> Nombre del banco (Ej, 'California Savings')\n",
        "        acnt --> Número de la tarjeta (Ej. '5591 0375 9387 5309')\n",
        "        limit --> Límite de crédito\n",
        "        \"\"\"\n",
        "        self._customer = customer\n",
        "        self._bank = bank\n",
        "        self._account = acnt\n",
        "        self._limit = limit\n",
        "        self._balance = 0\n",
        "\n",
        "    # Métodos Getter\n",
        "    def get_customer(self):\n",
        "        return self._customer\n",
        "        \n",
        "    def get_bank(self):\n",
        "        return self._bank\n",
        "    \n",
        "    def get_account(self):\n",
        "        return self._account\n",
        "    \n",
        "    def get_limit(self):\n",
        "        return self._limit\n",
        "\n",
        "    def get_balance(self):\n",
        "        return self._balance\n",
        "\n",
        "    # Cargar compra en la tarjeta\n",
        "    def charge(self, price):\n",
        "        \"\"\" \n",
        "        Realiza un cargo a la tarjeta.\n",
        "        Retorna True si el cargo fue procesado y False sino\n",
        "        \"\"\"\n",
        "\n",
        "        if price + self._balance > self._limit:\n",
        "            return False\n",
        "        else:\n",
        "            self._balance += price\n",
        "            return True\n",
        "\n",
        "    def make_payment(self, amount):\n",
        "        \"\"\" \n",
        "        Recibe un pago del cliente\n",
        "        \"\"\"\n",
        "\n",
        "        self._balance -= amount"
      ]
    },
    {
      "cell_type": "markdown",
      "metadata": {
        "id": "aR_7cQJjpvDt"
      },
      "source": [
        "* Para hacer uso de la clase en py solo se debe llamar a la clase y mandarle los parámetros\n",
        "* **append** sirve para añadir un elemento al final de una lista\n"
      ]
    },
    {
      "cell_type": "code",
      "execution_count": 8,
      "metadata": {
        "colab": {
          "base_uri": "https://localhost:8080/"
        },
        "id": "0lHKlRklpr_y",
        "outputId": "0d0bceca-6d36-4f85-b99e-21371e9a857f"
      },
      "outputs": [
        {
          "name": "stdout",
          "output_type": "stream",
          "text": [
            "----------- Balance de las cuentas ----------\n",
            "La cuenta 1 tiene balance: 136 \n",
            " \n",
            "La cuenta 2 tiene balance: 272 \n",
            " \n",
            "La cuenta 3 tiene balance: 408 \n",
            " \n"
          ]
        }
      ],
      "source": [
        "# Hacer uso de la clase \n",
        "wallet = []\n",
        "wallet.append(CreditCard('John Bowman', 'California Savings', '5591 0375 9387 5309', 2500))\n",
        "wallet.append(CreditCard('John Bowman', 'California Savings', '5591 0375 9387 5309', 3500))\n",
        "wallet.append(CreditCard('John Bowman', 'California Savings', '5591 0375 9387 5309', 5000))\n",
        "\n",
        "for val in range(1,17):\n",
        "    wallet[0].charge(val)\n",
        "    wallet[1].charge(2*val)\n",
        "    wallet[2].charge(3*val)\n",
        "\n",
        "\n",
        "print(\"----------- Balance de las cuentas ----------\")\n",
        "\n",
        "for i in range(len(wallet)):\n",
        "    print(\"La cuenta {0} tiene balance: {1} \\n \".format(i+1, wallet[i]._balance))"
      ]
    },
    {
      "cell_type": "markdown",
      "metadata": {
        "id": "4KOZzQvEp1CV"
      },
      "source": [
        "* **super()** sirve para llamar métodos de la clase padre el cual sirve para inicializar valores de la clase padre en el constructor de una clase hija\n",
        "* **pow()** Sirve para calcular raices cuadradas o para calcular potencias se compone de 3 parámetros donde el primero es la **base** el segundo el **exponente** y el tercero es **modulo**\n"
      ]
    },
    {
      "cell_type": "code",
      "execution_count": 17,
      "metadata": {
        "colab": {
          "base_uri": "https://localhost:8080/"
        },
        "id": "SqbP8JYNp-1j",
        "outputId": "37e6e069-75b9-480f-dc53-ade7038ec1ed"
      },
      "outputs": [
        {
          "name": "stdout",
          "output_type": "stream",
          "text": [
            "----------- Balance de las cuentas ----------\n",
            "La cuenta 0 tiene balance: 1536.033633450896 \n",
            " \n",
            "La cuenta 1 tiene balance: 3035.6502182630393 \n",
            " \n",
            "La cuenta 2 tiene balance: 4632.950999761197 \n",
            " \n"
          ]
        }
      ],
      "source": [
        "\"\"\"\n",
        "----------------------------------------------------------------------------------------------------\n",
        "    \n",
        " \n",
        "\n",
        "----------------------------------------------------------------------------------------------------\n",
        "    Clases y Herencia - Clase Hija\n",
        "----------------------------------------------------------------------------------------------------\n",
        "\"\"\"\n",
        "# from CreditCard import * \n",
        "\n",
        "class AbusiveCreditCard(CreditCard):\n",
        "    \"\"\" Una tarjeta de crédito abusiva \"\"\"\n",
        "\n",
        "    def __init__(self, customer, bank, acnt, limit, apr):\n",
        "        \"\"\" El balance inicial es 0\n",
        "        customer --> Nombre del cliente (Ej. 'John Bowman')\n",
        "        bank --> Nombre del banco (Ej, 'California Savings')\n",
        "        acnt --> Número de la tarjeta (Ej. '5591 0375 9387 5309')\n",
        "        limit --> Límite de crédito\n",
        "        apr --> Tasa de porcentaje anual (Ej. 0.0825 for 8.25% APR)\n",
        "        \"\"\"\n",
        "\n",
        "        super().__init__(customer, bank, acnt, limit)\n",
        "        self._apr = apr\n",
        "\n",
        "    def charge(self, price):\n",
        "        success = super().charge(price)\n",
        "        if not success:\n",
        "            self._balance += 5\n",
        "        return success\n",
        "\n",
        "    # Realizar el cálculo de la tasa anual\n",
        "    def process_month(self):\n",
        "        if self._balance > 0:\n",
        "            # pow (base, exponente) \n",
        "            monthly_factor = pow(1 + self._apr, 1/12) # Se usa pow porque el exponente es fracción\n",
        "        self._balance *= monthly_factor \n",
        "\n",
        "wallet = []\n",
        "wallet.append(AbusiveCreditCard('John Bowman', 'California Savings', '5591 0375 9387 5309', 2500, 0.5))\n",
        "wallet.append(AbusiveCreditCard('John Bowman', 'California Savings', '5591 0375 9387 5309', 3500, 0.3))\n",
        "wallet.append(AbusiveCreditCard('John Bowman', 'California Savings', '5591 0375 9387 5309', 5000, 0.6))\n",
        "\n",
        "for val in range(1,55):\n",
        "    wallet[0].charge(val)\n",
        "    wallet[1].charge(2*val)\n",
        "    wallet[2].charge(3*val)\n",
        "\n",
        "wallet[0].process_month()\n",
        "wallet[1].process_month()\n",
        "wallet[2].process_month()\n",
        "\n",
        "print(\"----------- Balance de las cuentas ----------\")\n",
        "\n",
        "for i in range(len(wallet)):\n",
        "    print(\"La cuenta {0} tiene balance: {1} \\n \".format(i, wallet[i]._balance))"
      ]
    }
  ],
  "metadata": {
    "colab": {
      "collapsed_sections": [],
      "name": "Clase_0206-0211.ipynb",
      "provenance": []
    },
    "kernelspec": {
      "display_name": "Python 3",
      "name": "python3"
    },
    "language_info": {
      "name": "python"
    }
  },
  "nbformat": 4,
  "nbformat_minor": 0
}
