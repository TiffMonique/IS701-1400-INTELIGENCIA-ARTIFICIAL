{
 "cells": [
  {
   "cell_type": "markdown",
   "metadata": {
    "id": "eUYmBfyGq0qn"
   },
   "source": [
    "\n",
    "___\n",
    "___\n",
    "\n",
    "<!--Titulo -->\n",
    "## Clase 0301 Introducción al Entorno de Trabajo - 04/07/2021\n",
    "___\n",
    "\n",
    "* Instalar dependencias: \n",
    "  1. sudo apt install python3-pip\n",
    "    * Gestor de paquetes\n",
    "  2. sudo pip3 install --upgrade pip\n",
    "    * Actualizar a la última versión del gestor de paquetes\n",
    "  3. sudo pip3 install jupyter\n",
    "    * Editar código en py junto a markdown para documentar\n",
    "  4. sudo pip3 install numpy\n",
    "    * Realizar operaciones con arreglos de forma muy eficiente, dado que **numpy** está hecho en C y ya está compilado. Permite desarrollar algoritmos eficientes\n",
    "  5. sudo pip3 install matplotlib\n",
    "    * Sirve para gráficar o para mostrar gráficos\n",
    "  6. sudo pip3 install h5py\n",
    "    * Sirve para mostrar gráficos pero utilizando los dataset de los laboratorios ya elaborados en formato \"h5\"\n",
    "  7. sudo pip3 install scipy\n",
    "    * Métodos Cientificos\n",
    "  8. sudo pip3 install sklearn\n",
    "    * Importante en el área del aprendizaje autómatico, ya posee modelos creados para realizar el aprendizaje autómatico. Para comparar con los modelos creados\n",
    "  9. sudo pip3 install pillow\n",
    "    * Mostrar imagenes\n",
    "\n",
    "* Los Notebook de Jupyter se componen de celdas\n",
    "  1. Celdas de lenguaje de programación (Py)\n",
    "  2. Celdas de lenguaje de marcado (Markdown)\n",
    "\n",
    "* En Markdown se puede agregar código de Py utilizando el apostofre \n",
    "\n",
    "```python\n",
    "  def paraquememires(self):\n",
    "    print(\"Tengo color\")\n",
    "```"
   ]
  },
  {
   "cell_type": "markdown",
   "metadata": {
    "id": "zXohP1Oh6gRh"
   },
   "source": [
    "___\n",
    "<!--Titulo -->\n",
    "## 0302 Introducción a Numpy Lab 01 - 04/07\n",
    "___\n",
    "\n",
    "# Conceptos básicos de Python con Numpy (asignación opcional)\n",
    "\n",
    "Bienvenido a tu primera tarea. Este ejercicio le brinda una breve introducción a Python. Incluso si ha usado Python antes, esto lo ayudará a familiarizarse con las funciones que necesitaremos.\n",
    "\n",
    "**Instrucciones:**\n",
    "- Usarás Python 3.\n",
    "- Evite usar bucles for y while, a menos que se le indique explícitamente que lo haga.\n",
    "- No modifique el comentario (# FUNCIÓN CALIFICADA [nombre de la función]) en algunas celdas. Su trabajo no será calificado si cambia esto. Cada celda que contiene ese comentario solo debe contener una función.\n",
    "- Después de codificar su función, ejecute la celda justo debajo para verificar si su resultado es correcto.\n",
    "\n",
    "**Después de esta tarea:**\n",
    "- Poder utilizar iPython Notebooks\n",
    "- Ser capaz de usar funciones numpy y operaciones de matriz / vector numpy\n",
    "- Comprender el concepto de \"radiodifusión\"\n",
    "- Poder vectorizar código\n",
    "\n",
    "¡Empecemos!\n",
    "\n",
    "## Acerca de iPython Notebooks\n",
    "Los iPython Notebooks son entornos de codificación interactivos integrados en una página web. Utilizará cuadernos iPython en esta clase. Solo necesita escribir código entre:\n",
    "1. Los comentarios ### START CODE AQUÍ ### CODIGO AQUÍ ### END CODE AQUÍ ###. \n",
    "\n",
    "Después de escribir su código, puede ejecutar la celda presionando \"SHIFT\" + \"ENTER\" o haciendo clic en \"Ejecutar celda\" (indicado por un símbolo de reproducción) en la barra superior del cuaderno.\n",
    "\n",
    "A menudo especificaremos \"(≈ X líneas de código)\" en los comentarios para indicarle cuánto código necesita escribir. Es solo una estimación aproximada, así que no se sienta mal si su código es más largo o más corto.\n",
    "\n",
    "Ejercicio: establezca la prueba en \"Hola mundo\" en la celda siguiente para imprimir \"Hola mundo\" y ejecute las dos celdas siguientes."
   ]
  },
  {
   "cell_type": "code",
   "execution_count": 1,
   "metadata": {
    "colab": {
     "base_uri": "https://localhost:8080/"
    },
    "id": "PCQvmOiuZvrb",
    "outputId": "26c7c572-e9d3-4ba0-9235-131ef24c90cc"
   },
   "outputs": [
    {
     "name": "stdout",
     "output_type": "stream",
     "text": [
      "test: Test\n"
     ]
    }
   ],
   "source": [
    "### START CODE HERE ### (≈ 1 line of code)\n",
    "test = 'Test'\n",
    "### END CODE HERE ###\n",
    "print (\"test: \" + test)"
   ]
  },
  {
   "cell_type": "markdown",
   "metadata": {
    "id": "Fdc3wIWQZ3q1"
   },
   "source": [
    "**Salida esperada**:\n",
    "test: Test\n",
    "___\n",
    "\n",
    "<h4 style=\"font:bold\">Lo que necesitas recordar:</h4>\n",
    "1. Ejecute sus celdas usando SHIFT + ENTER (o \"Ejecutar celda\") 2. Escriba código en las áreas designadas usando solo Python 3\n",
    "3. No modifique el código fuera de las áreas designadas\n",
    "\n",
    "___\n",
    "\n",
    "## 1 - Construyendo funciones básicas con numpy ##\n",
    "\n",
    "**Numpy es el paquete principal para la computación científica en Python**. Lo mantiene una gran comunidad (www.numpy.org). En este ejercicio aprenderá varias funciones clave como **np.exp, np.log y np.reshape**. Necesitará saber cómo utilizar estas funciones para futuras asignaciones.\n",
    "\n",
    "### 1.1 - función sigmoidea, np.exp () ###\n",
    "\n",
    "Antes de usar **np.exp (), usará math.exp ()** para implementar la función sigmoidea. Entonces verá por qué np.exp () es preferible a math.exp ().\n",
    "\n",
    "**Ejercicio**: Construye una función que devuelva el sigmoide de un número real x. Utilice math.exp (x) para la función exponencial.\n",
    "\n",
    "**Recordatorio**:\n",
    "$ sigmoide (x) = \\ frac {1} {1 + e ^ {- x}} $ a veces también se conoce como **función logística**. Es una función no lineal que se utiliza no solo en **Machine Learning** (Regresión logística), sino también en **Deep Learning**.\n",
    "\n",
    "![A vectorizado](https://drive.google.com/uc?export=view&id=1xMM52FfvYd8ztVcBhsMChfMGUxEy-q3S)\n",
    "\n",
    "\n",
    "Para hacer referencia a una función que pertenece a un paquete específico, puede llamarlo usando package_name.function (). Ejecute el siguiente código para ver un ejemplo con math.exp ().\n",
    "___\n",
    "## Anotaciones - Función logistica o función sigmoide \n",
    "* La libreria math tiene una función llamada exp que permite elevar numeros a un exponencial\n",
    "* Implementación con math.exp()\n",
    "    - s = 1.0 / (1.0 + math.exp(-x)) \n",
    "* La desventaja es que math.exp() esta diseñada para trabajar con números reales y en las redes neuronales se utilizan listas\n",
    "* La principal ventaja de **numpy** es poder transformar cualquier lista a un arreglo \n",
    "    - np.array([1,2,3])\n",
    "___\n"
   ]
  },
  {
   "cell_type": "code",
   "execution_count": 2,
   "metadata": {
    "colab": {
     "base_uri": "https://localhost:8080/"
    },
    "id": "pQVYW0JevcF0",
    "outputId": "9da50e7c-14c1-489b-ed63-9155248307b3"
   },
   "outputs": [
    {
     "data": {
      "text/plain": [
       "0.9525741268224334"
      ]
     },
     "execution_count": 2,
     "metadata": {},
     "output_type": "execute_result"
    }
   ],
   "source": [
    "# GRADED FUNCTION: basic_sigmoid\n",
    "\n",
    "import math\n",
    "\n",
    "def basic_sigmoid(x):\n",
    "    \"\"\"\n",
    "    Compute sigmoid of x.\n",
    "\n",
    "    Arguments:\n",
    "    x -- A scalar\n",
    "\n",
    "    Return:\n",
    "    s -- sigmoid(x)\n",
    "    \"\"\"\n",
    "    \n",
    "    ### START CODE HERE ### (≈ 1 line of code)\n",
    "    s = 1.0 / (1.0 + math.exp(-x)) # Función sigmoide o logistica\n",
    "    ### END CODE HERE ###\n",
    "    \n",
    "    return s\n",
    "\n",
    "basic_sigmoid(3)"
   ]
  },
  {
   "cell_type": "markdown",
   "metadata": {
    "id": "7rLJ29OCvl2N"
   },
   "source": [
    "**Salida esperada**: \n",
    "<table style = \"width:40%\">\n",
    "    <tr>\n",
    "    <td>basic_sigmoid(3)</td> \n",
    "        <td>0.9525741268224334 </td> \n",
    "    </tr>\n",
    "</table>\n",
    "\n",
    "____\n",
    "\n",
    "En realidad, rara vez usamos la biblioteca \"matemática\" en el aprendizaje profundo porque las entradas de las funciones son números reales. **En el aprendizaje profundo, usamos principalmente matrices y vectores. Por eso numpy es más útil.**"
   ]
  },
  {
   "cell_type": "code",
   "execution_count": 3,
   "metadata": {
    "colab": {
     "base_uri": "https://localhost:8080/",
     "height": 316
    },
    "id": "5TH-uVNxwVYm",
    "outputId": "6554605f-1181-41a9-8525-335c9b3bcc52"
   },
   "outputs": [
    {
     "ename": "TypeError",
     "evalue": "bad operand type for unary -: 'list'",
     "output_type": "error",
     "traceback": [
      "\u001b[0;31m---------------------------------------------------------------------------\u001b[0m",
      "\u001b[0;31mTypeError\u001b[0m                                 Traceback (most recent call last)",
      "\u001b[0;32m<ipython-input-3-8ccefa5bf989>\u001b[0m in \u001b[0;36m<module>\u001b[0;34m\u001b[0m\n\u001b[1;32m      1\u001b[0m \u001b[0;31m### One reason why we use \"numpy\" instead of \"math\" in Deep Learning ###\u001b[0m\u001b[0;34m\u001b[0m\u001b[0;34m\u001b[0m\u001b[0;34m\u001b[0m\u001b[0m\n\u001b[1;32m      2\u001b[0m \u001b[0mx\u001b[0m \u001b[0;34m=\u001b[0m \u001b[0;34m[\u001b[0m\u001b[0;36m1\u001b[0m\u001b[0;34m,\u001b[0m \u001b[0;36m2\u001b[0m\u001b[0;34m,\u001b[0m \u001b[0;36m3\u001b[0m\u001b[0;34m]\u001b[0m\u001b[0;34m\u001b[0m\u001b[0;34m\u001b[0m\u001b[0m\n\u001b[0;32m----> 3\u001b[0;31m \u001b[0mbasic_sigmoid\u001b[0m\u001b[0;34m(\u001b[0m\u001b[0mx\u001b[0m\u001b[0;34m)\u001b[0m \u001b[0;31m# you will see this give an error when you run it, because x is a vector.\u001b[0m\u001b[0;34m\u001b[0m\u001b[0;34m\u001b[0m\u001b[0m\n\u001b[0m",
      "\u001b[0;32m<ipython-input-2-4119c81a13ab>\u001b[0m in \u001b[0;36mbasic_sigmoid\u001b[0;34m(x)\u001b[0m\n\u001b[1;32m     15\u001b[0m \u001b[0;34m\u001b[0m\u001b[0m\n\u001b[1;32m     16\u001b[0m     \u001b[0;31m### START CODE HERE ### (≈ 1 line of code)\u001b[0m\u001b[0;34m\u001b[0m\u001b[0;34m\u001b[0m\u001b[0;34m\u001b[0m\u001b[0m\n\u001b[0;32m---> 17\u001b[0;31m     \u001b[0ms\u001b[0m \u001b[0;34m=\u001b[0m \u001b[0;36m1.0\u001b[0m \u001b[0;34m/\u001b[0m \u001b[0;34m(\u001b[0m\u001b[0;36m1.0\u001b[0m \u001b[0;34m+\u001b[0m \u001b[0mmath\u001b[0m\u001b[0;34m.\u001b[0m\u001b[0mexp\u001b[0m\u001b[0;34m(\u001b[0m\u001b[0;34m-\u001b[0m\u001b[0mx\u001b[0m\u001b[0;34m)\u001b[0m\u001b[0;34m)\u001b[0m \u001b[0;31m# Función sigmoide o logistica\u001b[0m\u001b[0;34m\u001b[0m\u001b[0;34m\u001b[0m\u001b[0m\n\u001b[0m\u001b[1;32m     18\u001b[0m     \u001b[0;31m### END CODE HERE ###\u001b[0m\u001b[0;34m\u001b[0m\u001b[0;34m\u001b[0m\u001b[0;34m\u001b[0m\u001b[0m\n\u001b[1;32m     19\u001b[0m \u001b[0;34m\u001b[0m\u001b[0m\n",
      "\u001b[0;31mTypeError\u001b[0m: bad operand type for unary -: 'list'"
     ]
    }
   ],
   "source": [
    "### One reason why we use \"numpy\" instead of \"math\" in Deep Learning ###\n",
    "x = [1, 2, 3]\n",
    "basic_sigmoid(x) # you will see this give an error when you run it, because x is a vector."
   ]
  },
  {
   "cell_type": "markdown",
   "metadata": {
    "id": "njWff7dCwb-w"
   },
   "source": [
    "De hecho, si $ x = (x_1, x_2, ..., x_n) $ es un vector de fila, entonces $ np.exp (x) $ aplicará la función exponencial a cada elemento de x. La salida será entonces: $ np.exp (x) = (e ^ {x_1}, e ^ {x_2}, ..., e ^ {x_n}) $"
   ]
  },
  {
   "cell_type": "code",
   "execution_count": 4,
   "metadata": {
    "colab": {
     "base_uri": "https://localhost:8080/"
    },
    "id": "avcEHm3JwjUs",
    "outputId": "7fab7ac8-58de-4005-d92c-e374136abf59"
   },
   "outputs": [
    {
     "name": "stdout",
     "output_type": "stream",
     "text": [
      "[ 2.71828183  7.3890561  20.08553692]\n"
     ]
    }
   ],
   "source": [
    "import numpy as np\n",
    "\n",
    "# example of np.exp\n",
    "x = np.array([1, 2, 3])\n",
    "print(np.exp(x)) # result is (exp(1), exp(2), exp(3))"
   ]
  },
  {
   "cell_type": "markdown",
   "metadata": {
    "id": "5sNYyU_L_Jjf"
   },
   "source": [
    "Además, si x es un vector, entonces una operación de Python como $ s = x + 3 $ o $ s =  {1} / {x} $ generará s como un vector del mismo tamaño que x."
   ]
  },
  {
   "cell_type": "code",
   "execution_count": 5,
   "metadata": {
    "colab": {
     "base_uri": "https://localhost:8080/"
    },
    "id": "fSPN8wym_eZk",
    "outputId": "5c9ac5dd-bad5-4710-8f0c-32e1b1689add"
   },
   "outputs": [
    {
     "name": "stdout",
     "output_type": "stream",
     "text": [
      "[4 5 6]\n"
     ]
    }
   ],
   "source": [
    "# example of vector operation\n",
    "x = np.array([1, 2, 3])\n",
    "print (x + 3)"
   ]
  },
  {
   "cell_type": "code",
   "execution_count": 7,
   "metadata": {
    "colab": {
     "base_uri": "https://localhost:8080/",
     "height": 129
    },
    "id": "oVNOIiij_iZc",
    "outputId": "9c1891f4-06c1-44e9-c758-e83f0da37b6d"
   },
   "outputs": [],
   "source": [
    "np.exp?"
   ]
  },
  {
   "cell_type": "markdown",
   "metadata": {
    "id": "iVLmd7pG_f55"
   },
   "source": [
    "____\n",
    "### Anotaciones - numpy\n",
    "* Sobrecarga de los operadores básicos, es decir, crea versiones alternas que son capaces de funcionar con arreglos de np\n",
    "* Para ver la documentación de np se puede utilizar el signo de interrogación\n",
    "    - np.exp?\n",
    "____\n",
    "Siempre que necesite más información sobre una función numpy, le recomendamos que consulte [la documentación oficial] (https://docs.scipy.org/doc/numpy-1.10.1/reference/generated/numpy.exp.html ).\n",
    "\n",
    "También puede crear una nueva celda en el cuaderno y escribir `np.exp?` (Por ejemplo) para obtener acceso rápido a la documentación.\n",
    "\n",
    "**Ejercicio**: Implemente la función sigmoidea usando numpy.\n",
    "\n",
    "**Instrucciones**: x ahora podría ser un número real, un vector o una matriz. Las estructuras de datos que usamos en numpy para representar estas formas (vectores, matrices ...) se denominan matrices numpy. No necesitas saber más por ahora.\n",
    "\n",
    "![Sigmoide](https://drive.google.com/uc?export=view&id=1dmauUn32o7zV9GkX7Q5M5ZlskRcIBjO-)"
   ]
  },
  {
   "cell_type": "code",
   "execution_count": 8,
   "metadata": {
    "colab": {
     "base_uri": "https://localhost:8080/"
    },
    "id": "PVroiCQ7J5Dy",
    "outputId": "e34d34ae-56ac-4168-e2b6-6f5f446ad9ed"
   },
   "outputs": [
    {
     "data": {
      "text/plain": [
       "array([0.73105858, 0.88079708, 0.95257413])"
      ]
     },
     "execution_count": 8,
     "metadata": {},
     "output_type": "execute_result"
    }
   ],
   "source": [
    "# GRADED FUNCTION: sigmoid\n",
    "\n",
    "import numpy as np # this means you can access numpy functions by writing np.function() instead of numpy.function()\n",
    "\n",
    "def sigmoid(x):\n",
    "    \"\"\"\n",
    "    Compute the sigmoid of x\n",
    "\n",
    "    Arguments:\n",
    "    x -- A scalar or numpy array of any size\n",
    "\n",
    "    Return:\n",
    "    s -- sigmoid(x)\n",
    "    \"\"\"\n",
    "    \n",
    "    ### START CODE HERE ### (≈ 1 line of code)\n",
    "    s = 1.0 / (1.0 + np.exp(-x)) # función sigmoide o logistica con np\n",
    "    ### END CODE HERE ###\n",
    "    \n",
    "    return s\n",
    "\n",
    "x = np.array([1, 2, 3])\n",
    "sigmoid(x)"
   ]
  },
  {
   "cell_type": "markdown",
   "metadata": {
    "id": "SyBet6FnKB0n"
   },
   "source": [
    "**Salida esperada**: \n",
    "<table>\n",
    "    <tr> \n",
    "        <td> sigmoid([1,2,3])</td> \n",
    "        <td> array([ 0.73105858,  0.88079708,  0.95257413]) </td> \n",
    "    </tr>\n",
    "</table> \n",
    "\n",
    "_____\n",
    "\n",
    "### 1.2 - Gradiente sigmoide\n",
    "\n",
    "Como ha visto en la conferencia, deberá **calcular gradientes para optimizar las funciones de pérdida** mediante la **propagación inversa**. Codifiquemos su primera función de gradiente.\n",
    "\n",
    "**Ejercicio**: Implemente la función sigmoid_grad () para calcular el gradiente de la función sigmoidea con respecto a su entrada x. La fórmula es: $$ sigmoide \\ _derivative (x) = \\ sigma '(x) = \\ sigma (x) (1 - \\ sigma (x)) \\ tag {2} $$\n",
    "A menudo, codifica esta función en dos pasos:\n",
    "1. Establezca s para que sea el sigmoide de x. Puede que encuentre útil su función sigmoidea (x).\n",
    "2. Calcule $ \\ sigma '(x) = s (1-s) $\n",
    "\n"
   ]
  },
  {
   "cell_type": "code",
   "execution_count": 9,
   "metadata": {
    "colab": {
     "base_uri": "https://localhost:8080/"
    },
    "id": "F5Biovf7KqJJ",
    "outputId": "28d65771-6804-46f9-de89-1176b5c1079c"
   },
   "outputs": [
    {
     "name": "stdout",
     "output_type": "stream",
     "text": [
      "sigmoid_derivative(x) = [0.19661193 0.10499359 0.04517666]\n"
     ]
    }
   ],
   "source": [
    "# GRADED FUNCTION: sigmoid_derivative\n",
    "\n",
    "def sigmoid_derivative(x):\n",
    "    \"\"\"\n",
    "    Compute the gradient (also called the slope or derivative) of the sigmoid function with respect to its input x.\n",
    "    You can store the output of the sigmoid function into variables and then use it to calculate the gradient.\n",
    "    \n",
    "    Arguments:\n",
    "    x -- A scalar or numpy array\n",
    "\n",
    "    Return:\n",
    "    ds -- Your computed gradient.\n",
    "    \"\"\"\n",
    "    \n",
    "    ### START CODE HERE ### (≈ 2 lines of code)\n",
    "    s = sigmoid(x) \n",
    "    ds = s * (1.0 - s) # Gradiente de la función sigmoide o logistica con el mismo tamaño de s\n",
    "    ### END CODE HERE ###\n",
    "    \n",
    "    return ds\n",
    "\n",
    "x = np.array([1, 2, 3])\n",
    "print (\"sigmoid_derivative(x) = \" + str(sigmoid_derivative(x)))"
   ]
  },
  {
   "cell_type": "markdown",
   "metadata": {
    "id": "hGZ9pIwPKB6A"
   },
   "source": [
    "**Salida esperada**: \n",
    "\n",
    "<table>\n",
    "    <tr> \n",
    "        <td>sigmoid_derivative([1,2,3])</td> \n",
    "        <td> [ 0.19661193  0.10499359  0.04517666] </td> \n",
    "    </tr>\n",
    "</table> \n",
    "\n",
    "____\n",
    "### Anotaciones - Shape y reshape\n",
    "* Permiten conocer las dimansiones y tamaños de las dimensiones\n",
    "    1. forma -> Conocer dimensiones\n",
    "    2. remodelar -> Cambiar dimensiones y tamaños\n",
    "        * Hace sentido usar reshape cuando la dimensión a la que se está convirtiendo tiene la capacidad de albergar de todos los elementos de la dimensión anterior\n",
    "* Ejemplo\n",
    "    1. Cada píxel contiene la información de 3 niveles de color que se representan con 3 vectores\n",
    "    2. Para convertir el arreglo de 3 dimensiones de los colores a un vector de una sola dimensión se ** reshape **\n",
    "    3. Al hacer un ** reshape ** de los 3 vectores a 1 solo vector, este vector ahora de una dimensión sirve como un vector de ** atributos **\n",
    "____\n",
    "    \n",
    "### 1.3 - Remodelando matrices ###\n",
    "\n",
    "Dos funciones comunes que se utilizan en el aprendizaje profundo son [np.shape] (https://docs.scipy.org/doc/numpy/reference/generated/numpy.ndarray.shape.html) y [np.reshape ()] ( https://docs.scipy.org/doc/numpy/reference/generated/numpy.reshape.html).\n",
    "- X.shape se usa para obtener la forma (dimensión) de una matriz / vector X.\n",
    "- X.reshape (...) se usa para remodelar X en alguna otra dimensión.\n",
    "\n",
    "Por ejemplo, en informática, una imagen se representa mediante una matriz 3D de forma $ (longitud, altura, profundidad = 3) $. Sin embargo, cuando lee una imagen como entrada de un algoritmo, la convierte en un vector de forma $ (longitud * altura * 3, 1) $. En otras palabras, \"desenrolla\", o remodela, la matriz 3D en un vector 1D.\n",
    "\n",
    "![Sigmoide](https://drive.google.com/uc?export=view&id=1dmauUn32o7zV9GkX7Q5M5ZlskRcIBjO-)\n",
    "\n",
    "\n",
    "**Ejercicio**: \n",
    "  * Implemente `image2vector ()` que toma una entrada de forma (longitud, altura, 3) y devuelve un vector de forma (longitud \\ * altura \\ * 3, 1). Por ejemplo, si desea remodelar una matriz v de forma (a, b, c) en un vector de forma (a * b, c), debería hacer:\n",
    "\n",
    "```\n",
    "v = v.reshape ((v.shape [0] * v.shape [1], v.shape [2])) \n",
    "# v.shape [0] = a; v.shape [1] = b; v.shape [2] = c\n",
    "```\n",
    "\n",
    "- No codifique las dimensiones de la imagen como una constante. En su lugar, busque las cantidades que necesita con `image.shape [0]`, etc.\n"
   ]
  },
  {
   "cell_type": "code",
   "execution_count": 10,
   "metadata": {
    "colab": {
     "base_uri": "https://localhost:8080/"
    },
    "id": "ojZP_0BjPNFW",
    "outputId": "dc902f8f-f39e-4b73-be77-5e25adacae4f"
   },
   "outputs": [
    {
     "name": "stdout",
     "output_type": "stream",
     "text": [
      "image2vector(image) = [[0.67826139]\n",
      " [0.29380381]\n",
      " [0.90714982]\n",
      " [0.52835647]\n",
      " [0.4215251 ]\n",
      " [0.45017551]\n",
      " [0.92814219]\n",
      " [0.96677647]\n",
      " [0.85304703]\n",
      " [0.52351845]\n",
      " [0.19981397]\n",
      " [0.27417313]\n",
      " [0.60659855]\n",
      " [0.00533165]\n",
      " [0.10820313]\n",
      " [0.49978937]\n",
      " [0.34144279]\n",
      " [0.94630077]]\n"
     ]
    }
   ],
   "source": [
    "# GRADED FUNCTION: image2vector\n",
    "def image2vector(image):\n",
    "    \"\"\"\n",
    "    Argument:\n",
    "    image -- a numpy array of shape (length, height, depth)\n",
    "    \n",
    "    Returns:\n",
    "    v -- a vector of shape (length*height*depth, 1)\n",
    "    \"\"\"\n",
    "    \n",
    "    ### START CODE HERE ### (≈ 1 line of code)\n",
    "    v = image.reshape((image.shape[0]*image.shape[1]*image.shape[2],1))\n",
    "    ### END CODE HERE ###\n",
    "    \n",
    "    return v\n",
    "\n",
    "# This is a 3 by 3 by 2 array, typically images will be (num_px_x, num_px_y,3) where 3 represents the RGB values\n",
    "image = np.array([[[ 0.67826139,  0.29380381],\n",
    "        [ 0.90714982,  0.52835647],\n",
    "        [ 0.4215251 ,  0.45017551]],\n",
    "\n",
    "       [[ 0.92814219,  0.96677647],\n",
    "        [ 0.85304703,  0.52351845],\n",
    "        [ 0.19981397,  0.27417313]],\n",
    "\n",
    "       [[ 0.60659855,  0.00533165],\n",
    "        [ 0.10820313,  0.49978937],\n",
    "        [ 0.34144279,  0.94630077]]])\n",
    "\n",
    "print (\"image2vector(image) = \" + str(image2vector(image)))"
   ]
  },
  {
   "cell_type": "markdown",
   "metadata": {
    "id": "NSsdK1v-Pj3p"
   },
   "source": [
    "### 1.4 - Normalización de filas\n",
    "\n",
    "Otra técnica común que usamos en Machine Learning y Deep Learning es normalizar nuestros datos. A menudo conduce a un mejor rendimiento porque el descenso de gradientes converge más rápido después de la normalización. Aquí, por normalización nos referimos a cambiar x por $ \\ frac {x} {\\ | x \\ |} $ (dividiendo cada vector fila de x por su norma).\n",
    "\n",
    "Por ejemplo, si $$x = \n",
    "\\begin{bmatrix}\n",
    "    0 & 3 & 4 \\\\\n",
    "    2 & 6 & 4 \\\\\n",
    "\\end{bmatrix}\\tag{3}$$ entonces $$\\| x\\| = np.linalg.norm(x, axis = 1, keepdims = True) = \\begin{bmatrix}\n",
    "    5 \\\\\n",
    "    \\sqrt{56} \\\\\n",
    "\\end{bmatrix}\\tag{4} $$y        $$ x\\_normalized = \\frac{x}{\\| x\\|} = \\begin{bmatrix}\n",
    "    0 & \\frac{3}{5} & \\frac{4}{5} \\\\\n",
    "    \\frac{2}{\\sqrt{56}} & \\frac{6}{\\sqrt{56}} & \\frac{4}{\\sqrt{56}} \\\\\n",
    "\\end{bmatrix}\\tag{5}$$  Tenga en cuenta que puede dividir matrices de diferentes tamaños y funciona bien: esto se llama transmisión y lo aprenderá en la parte 5.\n",
    "\n",
    "\n",
    "**Ejercicio**: Implemente normalizeRows () para normalizar las filas de una matriz. Después de aplicar esta función a una matriz de entrada x, cada fila de x debe ser un vector de longitud unitaria (es decir, longitud 1).\n",
    "\n",
    "\n",
    "### Anotaciones - Normalizar datos\n",
    "* Es útil para preparar los datos previo a la ejecución de un algoritmo de aprendizaje de maquina\n",
    "* Sirve para que los diferentes atributos se encuentren en la misma escala, lo que permite que el algoritmo de descenso de gradiente converja más rápido, es decir, encuentra su camino al punto minímo de forma más rápida\n",
    "* Para normalizar las filas de un arreglo np\n",
    "    1. Considerar cada una de las filas de una matriz como un vector\n",
    "    2. Dividir cada uno de los elementos de las filas de los vectores por la norma del vector (conmunmente se utiliza la norma **euclidia** )\n",
    "    3. **Norma euclidia:** Se calcula elevando los elementos al cuadrado, sumandolos y sacando la raíz cuadrada\n",
    "    4. Se hace uso de la función **np.linarg.norm** la cual tiene como parámetros\n",
    "        1. Matriz de donde se obtendran las filas como vectores\n",
    "        2. ord = 2\n",
    "            * Indicar que se hace uso de la norma euclidia\n",
    "        3. axis = 1 | axis = 0 \n",
    "            * 1 --> se **mueve** a nivel de **columnas**, **calcula la norma** a nivel de las **filas**\n",
    "            * 0 --> se **mueve** a nivel de **filas**, **calcula la norma** a nivel de las **columnas**\n",
    "        4. keepdims = True | keepdims = False\n",
    "            * Sirve para que el vector resultante mantenga las dimensiones que el vector original, es decir, el **vector resultante es un vector columna** el cual tiene la capacidad de operar con vectores con dimensiones iguales a las del vector original\n",
    "            * Siempre se debe mandar en True para que se pueda diferenciar entre vectores columna y vectores fila\n",
    "    5. Dividir la matriz entre la norma de la matriz  \n",
    "            \n",
    "\n"
   ]
  },
  {
   "cell_type": "code",
   "execution_count": 11,
   "metadata": {
    "colab": {
     "base_uri": "https://localhost:8080/"
    },
    "id": "dl0lo3IYuOsd",
    "outputId": "ffe54051-3d40-4212-da64-fd84a0e3b835"
   },
   "outputs": [
    {
     "name": "stdout",
     "output_type": "stream",
     "text": [
      "normalizeRows(x) = [[0.         0.6        0.8       ]\n",
      " [0.13736056 0.82416338 0.54944226]]\n"
     ]
    }
   ],
   "source": [
    "# GRADED FUNCTION: normalizeRows\n",
    "\n",
    "def normalizeRows(x):\n",
    "    \"\"\"\n",
    "    Implement a function that normalizes each row of the matrix x (to have unit length).\n",
    "    \n",
    "    Argument:\n",
    "    x -- A numpy matrix of shape (n, m)\n",
    "    \n",
    "    Returns:\n",
    "    x -- The normalized (by row) numpy matrix. You are allowed to modify x.\n",
    "    \"\"\"\n",
    "    \n",
    "    ### START CODE HERE ### (≈ 2 lines of code)\n",
    "    # Compute x_norm as the norm 2 of x. Use np.linalg.norm(..., ord = 2, axis = ..., keepdims = True)\n",
    "    \n",
    "    x_norm = np.linalg.norm(x, ord=2, axis = 1, keepdims = True)\n",
    "    \n",
    "    # Dividir x por la norma \n",
    "    x = x / x_norm # Gracias al broadcasting esto se puede operar\n",
    "    ### END CODE HERE ###\n",
    "\n",
    "    return x\n",
    "\n",
    "x = np.array([\n",
    "    [0, 3, 4],\n",
    "    [1, 6, 4]])\n",
    "print(\"normalizeRows(x) = \" + str(normalizeRows(x)))"
   ]
  },
  {
   "cell_type": "markdown",
   "metadata": {
    "id": "mmHGP6LwvqKr"
   },
   "source": [
    "**Salida esperada**: \n",
    "\n",
    "<table style=\"width:60%\">\n",
    "     <tr> \n",
    "       <td> normalizeRows(x) </td> \n",
    "       <td> [[ 0.          0.6         0.8       ]\n",
    "[ 0.13736056  0.82416338  0.54944226]]</td> \n",
    "     </tr>\n",
    "</table>\n",
    "\n",
    "___\n",
    "\n",
    "**Nota**:\n",
    "En normalizeRows (), puede intentar imprimir las formas de x_norm y x, y luego volver a ejecutar la evaluación. Descubrirás que tienen diferentes formas. Esto es normal dado que x_norm toma la norma de cada fila de x. Entonces **x_norm tiene el mismo número de filas pero solo 1 columna**. Entonces, ¿cómo funcionó cuando dividió x por x_norm? ¡Esto se llama **transmisión o broadcasting** y hablaremos de eso ahora!\n",
    "\n",
    "____\n",
    "### Anotaciones - Broadcasting y función softmax\n",
    "#### Función Softmax\n",
    "* Se utiliza para hacer clasificación multiclase\n",
    "* Funciona sobre un vector (puede ser vector fila) o matriz  y lo que realiza es:\n",
    "    1. Elevar e a cada uno de los elementos del vector enviado como parámetro\n",
    "    2. Dividr entre la sumatoria de todos los elementos del vector enviado como parámetro\n",
    "* Se parace a la norma euclidea, con la diferencia de que ahora se divide por la sumatoria de cada uno de los elementos \n",
    "* Si el parámetro es una matriz, considera que cada fila de la matriz es un vector fila y aplica el procedimiento correspondiente\n",
    "____\n",
    "### 1.5 - Difusión o Broadcasting y función softmax ####\n",
    "Un concepto muy importante de entender en **numpy es \"radiodifusión\"**. Es muy útil para realizar **operaciones matemáticas entre matrices de diferentes formas**. Para obtener todos los detalles sobre la transmisión, puede leer la [documentación de transmisión] oficial (http://docs.scipy.org/doc/numpy/user/basics.broadcasting.html).\n",
    "\n",
    "** Ejercicio **: Implemente una función softmax usando numpy. Puede pensar en softmax como una función de normalización utilizada cuando su algoritmo necesita clasificar dos o más clases. Aprenderá más sobre softmax en el segundo curso de esta especialización.\n",
    "\n",
    "**Instrucciones**:- $ \\text{for } x \\in \\mathbb{R}^{1\\times n} \\text{,     } softmax(x) = softmax(\\begin{bmatrix}\n",
    "    x_1  &&\n",
    "    x_2 &&\n",
    "    ...  &&\n",
    "    x_n  \n",
    "\\end{bmatrix}) = \\begin{bmatrix}\n",
    "     \\frac{e^{x_1}}{\\sum_{j}e^{x_j}}  &&\n",
    "    \\frac{e^{x_2}}{\\sum_{j}e^{x_j}}  &&\n",
    "    ...  &&\n",
    "    \\frac{e^{x_n}}{\\sum_{j}e^{x_j}} \n",
    "\\end{bmatrix} $ \n",
    "\n",
    "- $\\text{for a matrix } x \\in \\mathbb{R}^{m \\times n} \\text{,  $x_{ij}$ maps to the element in the $i^{th}$ row and $j^{th}$ column of $x$, thus we have: }$  $$softmax(x) = softmax\\begin{bmatrix}\n",
    "    x_{11} & x_{12} & x_{13} & \\dots  & x_{1n} \\\\\n",
    "    x_{21} & x_{22} & x_{23} & \\dots  & x_{2n} \\\\\n",
    "    \\vdots & \\vdots & \\vdots & \\ddots & \\vdots \\\\\n",
    "    x_{m1} & x_{m2} & x_{m3} & \\dots  & x_{mn}\n",
    "\\end{bmatrix} = \\begin{bmatrix}\n",
    "    \\frac{e^{x_{11}}}{\\sum_{j}e^{x_{1j}}} & \\frac{e^{x_{12}}}{\\sum_{j}e^{x_{1j}}} & \\frac{e^{x_{13}}}{\\sum_{j}e^{x_{1j}}} & \\dots  & \\frac{e^{x_{1n}}}{\\sum_{j}e^{x_{1j}}} \\\\\n",
    "    \\frac{e^{x_{21}}}{\\sum_{j}e^{x_{2j}}} & \\frac{e^{x_{22}}}{\\sum_{j}e^{x_{2j}}} & \\frac{e^{x_{23}}}{\\sum_{j}e^{x_{2j}}} & \\dots  & \\frac{e^{x_{2n}}}{\\sum_{j}e^{x_{2j}}} \\\\\n",
    "    \\vdots & \\vdots & \\vdots & \\ddots & \\vdots \\\\\n",
    "    \\frac{e^{x_{m1}}}{\\sum_{j}e^{x_{mj}}} & \\frac{e^{x_{m2}}}{\\sum_{j}e^{x_{mj}}} & \\frac{e^{x_{m3}}}{\\sum_{j}e^{x_{mj}}} & \\dots  & \\frac{e^{x_{mn}}}{\\sum_{j}e^{x_{mj}}}\n",
    "\\end{bmatrix} = \\begin{pmatrix}\n",
    "    softmax\\text{(first row of x)}  \\\\\n",
    "    softmax\\text{(second row of x)} \\\\\n",
    "    ...  \\\\\n",
    "    softmax\\text{(last row of x)} \\\\\n",
    "\\end{pmatrix} $$"
   ]
  },
  {
   "cell_type": "code",
   "execution_count": 12,
   "metadata": {
    "colab": {
     "base_uri": "https://localhost:8080/"
    },
    "id": "MQYEkN0b2ly3",
    "outputId": "10680dc1-cfff-4e9e-bb09-032429fa68b6"
   },
   "outputs": [
    {
     "name": "stdout",
     "output_type": "stream",
     "text": [
      "softmax(x) = [[9.80897665e-01 8.94462891e-04 1.79657674e-02 1.21052389e-04\n",
      "  1.21052389e-04]\n",
      " [8.78679856e-01 1.18916387e-01 8.01252314e-04 8.01252314e-04\n",
      "  8.01252314e-04]]\n"
     ]
    }
   ],
   "source": [
    "# GRADED FUNCTION: softmax\n",
    "\n",
    "def softmax(x):\n",
    "    \"\"\"Calculates the softmax for each row of the input x.\n",
    "\n",
    "    Your code should work for a row vector and also for matrices of shape (n, m).\n",
    "\n",
    "    Argument:\n",
    "    x -- A numpy matrix of shape (n,m)\n",
    "\n",
    "    Returns:\n",
    "    s -- A numpy matrix equal to the softmax of x, of shape (n,m)\n",
    "    \"\"\"\n",
    "    \n",
    "    ### START CODE HERE ### (≈ 3 lines of code)\n",
    "    # Apply exp() element-wise to x. Use np.exp(...).\n",
    "    x_exp = np.exp(x)\n",
    "    # Create a vector x_sum that sums each row of x_exp. Use np.sum(..., axis = 1, keepdims = True).\n",
    "    x_sum = np.sum(x_exp, axis = 1, keepdims = True)\n",
    "    # Compute softmax(x) by dividing x_exp by x_sum. It should automatically use numpy broadcasting.\n",
    "    s = x_exp / x_sum\n",
    "    ### END CODE HERE ###\n",
    "    \n",
    "    return s\n",
    "\n",
    "x = np.array([\n",
    "    [9, 2, 5, 0, 0],\n",
    "    [7, 5, 0, 0 ,0]])\n",
    "print(\"softmax(x) = \" + str(softmax(x)))"
   ]
  },
  {
   "cell_type": "markdown",
   "metadata": {
    "id": "HmUt0kTO2w4u"
   },
   "source": [
    "**Expected Output**:\n",
    "\n",
    "<table style=\"width:60%\">\n",
    "     <tr> \n",
    "       <td>softmax(x)</td> \n",
    "       <td> [[  9.80897665e-01   8.94462891e-04   1.79657674e-02   1.21052389e-04 1.21052389e-04][  8.78679856e-01   1.18916387e-01   8.01252314e-04   8.01252314e-04 8.01252314e-04]]</td> \n",
    "     </tr>\n",
    "</table>\n",
    "\n",
    "____\n",
    "\n",
    "**Nota**:\n",
    "- Si imprime las formas de x_exp, x_sum y s arriba y vuelve a ejecutar la celda de evaluación, verá que x_sum tiene forma (2,1) mientras que x_exp ys tienen forma (2,5). **x_exp / x_sum** funciona debido al **broadcasting de Python**.\n",
    "\n",
    "¡Felicidades! Ahora tiene una comprensión bastante buena de Python Numpy y ha implementado algunas funciones útiles que utilizará en el aprendizaje profundo.\n",
    "\n",
    "____\n",
    "## Lo que necesita recordar:\n",
    "- np.exp(x) funciona para cualquier np.array x y aplica la función exponencial a cada coordenada\n",
    "- La función sigmoidea y su gradiente\n",
    "- Iage2vector se usa comúnmente en aprendizaje profundo\n",
    "- np.reshape se usa ampliamente. En el futuro, verá que mantener las dimensiones de su matriz / vector correctas ayudará a eliminar muchos errores.\n",
    "- numpy tiene funciones integradas eficientes\n",
    "- la transmisión es extremadamente útil\n",
    "____\n",
    "## 2) Vectorización\n",
    "\n",
    "En el aprendizaje profundo, se trabaja con conjuntos de datos muy grandes. Por lo tanto, una función no óptima desde el punto de vista computacional puede convertirse en un gran cuello de botella en su algoritmo y puede resultar en un modelo que tarda años en ejecutarse. Para asegurarse de que su código sea computacionalmente eficiente, utilizará la vectorización. Por ejemplo, intente diferenciar entre las siguientes implementaciones del producto punto / exterior / elemento.\n",
    "____\n",
    "### Anotaciones\n",
    "* Permite ejecutar redes con grandes tamaños de Data set\n",
    "* Permite que los algoritmos se ejecuten de la forma más optima aprovechando las capacidad de procesamiento parálelo que tienen los procesadores actuales\n",
    "* Utilizando np es la forma más sencilla de vectorizar, porque las funciones de np ya tienen vectorización internamente, es decir son capaces de procesar de manera paralela los vectores\n",
    "* Hay que limitar la cantidad de ciclos o iteraciones (como ciclos for) que limitan la ejecución en paralelo y remplazarlas por funciones de np vectorizadas\n",
    "____"
   ]
  },
  {
   "cell_type": "code",
   "execution_count": 13,
   "metadata": {
    "colab": {
     "base_uri": "https://localhost:8080/"
    },
    "id": "K3bcRCU-QiUc",
    "outputId": "70fb4ce2-b465-4d5f-c4cc-909312f031bf"
   },
   "outputs": [
    {
     "name": "stdout",
     "output_type": "stream",
     "text": [
      "dot = 2534.939860904167\n",
      " ----- Computation time = 5.694289000000019ms\n",
      "outer = [[3.58435629e-01 4.44478985e-02 2.70398802e-01 ... 4.29578843e-01\n",
      "  5.50867222e-01 5.61690072e-01]\n",
      " [2.89746417e-01 3.59300759e-02 2.18580627e-01 ... 3.47256023e-01\n",
      "  4.45301168e-01 4.54049969e-01]\n",
      " [3.13983786e-03 3.89356368e-04 2.36864957e-03 ... 3.76304087e-03\n",
      "  4.82550735e-03 4.92031376e-03]\n",
      " ...\n",
      " [3.64372275e-01 4.51840739e-02 2.74877325e-01 ... 4.36693811e-01\n",
      "  5.59991047e-01 5.70993153e-01]\n",
      " [2.09634183e-01 2.59957386e-02 1.58145083e-01 ... 2.51242909e-01\n",
      "  3.22179468e-01 3.28509306e-01]\n",
      " [2.52113643e-01 3.12634145e-02 1.90190991e-01 ... 3.02153800e-01\n",
      "  3.87464669e-01 3.95077161e-01]]\n",
      " ----- Computation time = 35728.412262ms\n",
      "elementwise multiplication = [0.35843563 0.03593008 0.00236865 ... 0.43669381 0.32217947 0.39507716]\n",
      " ----- Computation time = 3.138661999997794ms\n",
      "gdot = [2486.3454678  2485.2166619  2518.32003444]\n",
      " ----- Computation time = 12.86246999999463ms\n"
     ]
    }
   ],
   "source": [
    "import numpy as np\n",
    "\n",
    "import time\n",
    "\n",
    "#x1 = [9, 2, 5, 0, 0, 7, 5, 0, 0, 0, 9, 2, 5, 0, 0]\n",
    "#x2 = [9, 2, 2, 9, 0, 9, 2, 5, 0, 0, 9, 2, 5, 0, 0]\n",
    "\n",
    "x1 = np.random.rand(10000)\n",
    "x2 = np.random.rand(10000)\n",
    "\n",
    "### CLASSIC DOT PRODUCT OF VECTORS IMPLEMENTATION ###\n",
    "tic = time.process_time() # Medir tiempo al inicio en Milisegundos\n",
    "dot = 0\n",
    "for i in range(len(x1)):\n",
    "    dot+= x1[i]*x2[i] # Producto punto\n",
    "toc = time.process_time() # Medir tiempo al final \n",
    "print (\"dot = \" + str(dot) + \"\\n ----- Computation time = \" + str(1000*(toc - tic)) + \"ms\") # Tiempo de ejecución en Milisegundos\n",
    "\n",
    "### CLASSIC OUTER PRODUCT IMPLEMENTATION ###\n",
    "tic = time.process_time()\n",
    "outer = np.zeros((len(x1),len(x2))) # we create a len(x1)*len(x2) matrix with only zeros\n",
    "for i in range(len(x1)): # 1er ciclo for\n",
    "    for j in range(len(x2)): # 2do ciclo for anidado\n",
    "        outer[i,j] = x1[i]*x2[j] # Producto externo: multiplica un elemento por todo el resto de elementos \n",
    "toc = time.process_time()\n",
    "print (\"outer = \" + str(outer) + \"\\n ----- Computation time = \" + str(1000*(toc - tic)) + \"ms\")\n",
    "\n",
    "### CLASSIC ELEMENTWISE IMPLEMENTATION ###\n",
    "tic = time.process_time()\n",
    "mul = np.zeros(len(x1))\n",
    "for i in range(len(x1)): \n",
    "    mul[i] = x1[i]*x2[i] # Multiplicación de elemento x elemento y se almacenan en un vector\n",
    "toc = time.process_time()\n",
    "print (\"elementwise multiplication = \" + str(mul) + \"\\n ----- Computation time = \" + str(1000*(toc - tic)) + \"ms\")\n",
    "\n",
    "### CLASSIC GENERAL DOT PRODUCT IMPLEMENTATION ###\n",
    "W = np.random.rand(3,len(x1)) # Random 3*len(x1) numpy array\n",
    "tic = time.process_time()\n",
    "gdot = np.zeros(W.shape[0])\n",
    "for i in range(W.shape[0]): # 1er ciclo for\n",
    "    for j in range(len(x1)):  # 2do ciclo for anidado\n",
    "        gdot[i] += W[i,j]*x1[j] # Multiplicación una matriz x un vector\n",
    "toc = time.process_time()\n",
    "print (\"gdot = \" + str(gdot) + \"\\n ----- Computation time = \" + str(1000*(toc - tic)) + \"ms\")\n",
    "\n"
   ]
  },
  {
   "cell_type": "code",
   "execution_count": 14,
   "metadata": {
    "colab": {
     "base_uri": "https://localhost:8080/"
    },
    "id": "XpzHKuW3QoY1",
    "outputId": "ed031ccd-7621-4959-f938-8543f069b067"
   },
   "outputs": [
    {
     "name": "stdout",
     "output_type": "stream",
     "text": [
      "dot = 2490.75455236482\n",
      " ----- Computation time = 0.24590400000334967ms\n",
      "outer = [[0.1367482  0.10643442 0.2296066  ... 0.09083267 0.07628295 0.21175142]\n",
      " [0.20215658 0.15734334 0.33943031 ... 0.13427908 0.11277004 0.31303478]\n",
      " [0.32261813 0.25110147 0.54169086 ... 0.21429362 0.17996772 0.49956669]\n",
      " ...\n",
      " [0.49401844 0.38450646 0.82947996 ... 0.32814336 0.27558083 0.7649761 ]\n",
      " [0.30321673 0.23600089 0.509115   ... 0.20140656 0.16914494 0.46952407]\n",
      " [0.03673751 0.02859369 0.06168398 ... 0.02440226 0.02049347 0.05688718]]\n",
      " ----- Computation time = 133.71959300000213ms\n",
      "elementwise multiplication = [0.1367482  0.15734334 0.54169086 ... 0.32814336 0.16914494 0.05688718]\n",
      " ----- Computation time = 0.12054899999469626ms\n",
      "gdot = [2484.4564902  2465.56405713 2524.91672798]\n",
      " ----- Computation time = 0.3679300000030139ms\n"
     ]
    }
   ],
   "source": [
    "#x1 = [9, 2, 5, 0, 0, 7, 5, 0, 0, 0, 9, 2, 5, 0, 0]\n",
    "\n",
    "#x2 = [9, 2, 2, 9, 0, 9, 2, 5, 0, 0, 9, 2, 5, 0, 0]\n",
    "\n",
    "x1 = np.random.rand(10000)\n",
    "x2 = np.random.rand(10000)\n",
    "\n",
    "### VECTORIZED DOT PRODUCT OF VECTORS ###\n",
    "tic = time.process_time()\n",
    "dot = np.dot(x1,x2) # Calcula el producto punto con np\n",
    "toc = time.process_time()\n",
    "print (\"dot = \" + str(dot) + \"\\n ----- Computation time = \" + str(1000*(toc - tic)) + \"ms\")\n",
    "\n",
    "### VECTORIZED OUTER PRODUCT ###\n",
    "tic = time.process_time()\n",
    "outer = np.outer(x1,x2) # Calcula el producto externo con np\n",
    "toc = time.process_time()\n",
    "print (\"outer = \" + str(outer) + \"\\n ----- Computation time = \" + str(1000*(toc - tic)) + \"ms\")\n",
    "\n",
    "### VECTORIZED ELEMENTWISE MULTIPLICATION ###\n",
    "tic = time.process_time()\n",
    "mul = np.multiply(x1,x2) # Calcula multiplicación elemento a elemento con np => np.array(x1) * np.array(x2)\n",
    "toc = time.process_time()\n",
    "print (\"elementwise multiplication = \" + str(mul) + \"\\n ----- Computation time = \" + str(1000*(toc - tic)) + \"ms\")\n",
    "\n",
    "### VECTORIZED GENERAL DOT PRODUCT ###\n",
    "tic = time.process_time()\n",
    "dot = np.dot(W,x1) # # Multiplicación una matriz x un vector con np\n",
    "toc = time.process_time()\n",
    "print (\"gdot = \" + str(dot) + \"\\n ----- Computation time = \" + str(1000*(toc - tic)) + \"ms\")"
   ]
  },
  {
   "cell_type": "markdown",
   "metadata": {
    "id": "FCeq7KERTsi3"
   },
   "source": [
    "Como habrás notado, la implementación vectorizada es mucho más limpia y eficiente. Para vectores / matrices más grandes, las diferencias en el tiempo de ejecución se vuelven aún mayores.\n",
    "\n",
    "**Tenga en cuenta** que `np.dot ()` realiza una multiplicación matriz-matriz o matriz-vector. Esto es diferente de `np.multiply ()` y el operador `*` (que es equivalente a `. *` En Matlab / Octave), que realiza una multiplicación por elementos.\n",
    "\n",
    "____\n",
    "### Anotaciones - Funciones de perdida L1 y L2\n",
    "* Sirven para comparar etiquetas reales contra etiquetas predecidas\n",
    "____\n",
    "\n",
    "### 2.1 Implementar las funciones de pérdida L1 y L2\n",
    "\n",
    "**Ejercicio**: \n",
    "Implemente la versión numpy vectorizada de la pérdida L1. Puede encontrar útil la función abs (x) (valor absoluto de x).\n",
    "\n",
    "**Recordatorio**:\n",
    "- La **pérdida se utiliza para evaluar el rendimiento de su modelo**. Cuanto mayor sea su pérdida, más diferentes serán sus predicciones ($ \\ hat ({y}) $) de los valores reales ($ y $). En el aprendizaje profundo, se utilizam algoritmos de optimización como **Gradient Descent** para entrenar su modelo y **minimizar el costo**.\n",
    "- La **pérdida L1** se define como:\n",
    "$$\\begin{align*} & L_1(\\hat{y}, y) = \\sum_{i=0}^m|y^{(i)} - \\hat{y}^{(i)}| \\end{align*}\\tag{6}$$\n",
    "\n"
   ]
  },
  {
   "cell_type": "code",
   "execution_count": 15,
   "metadata": {
    "colab": {
     "base_uri": "https://localhost:8080/"
    },
    "id": "3dR7baIJVG0F",
    "outputId": "ecf2047e-687c-4895-ae57-871e754d5561"
   },
   "outputs": [
    {
     "name": "stdout",
     "output_type": "stream",
     "text": [
      "L1 = [1.1]\n"
     ]
    }
   ],
   "source": [
    "# GRADED FUNCTION: L1\n",
    "\n",
    "def L1(yhat, y):\n",
    "    \"\"\"\n",
    "    Arguments:\n",
    "    yhat -- vector of size m (predicted labels)\n",
    "    y -- vector of size m (true labels)\n",
    "    \n",
    "    Returns:\n",
    "    loss -- the value of the L1 loss function defined above\n",
    "    \"\"\"\n",
    "    \n",
    "    ### START CODE HERE ### (≈ 1 line of code)\n",
    "    loss = np.sum(abs(y-yhat), keepdims = True)\n",
    "    ### END CODE HERE ###\n",
    "    \n",
    "    return loss\n",
    "\n",
    "yhat = np.array([.9, 0.2, 0.1, .4, .9])\n",
    "y = np.array([1, 0, 0, 1, 1])\n",
    "print(\"L1 = \" + str(L1(yhat,y)))"
   ]
  },
  {
   "cell_type": "markdown",
   "metadata": {
    "id": "cncWEy1EKLno"
   },
   "source": [
    "**Expected Output**:\n",
    "\n",
    "<table style=\"width:20%\">\n",
    "     <tr> \n",
    "       <td> L1 </td> \n",
    "       <td> 1.1 </td> \n",
    "     </tr>\n",
    "</table>\n",
    "\n",
    "____\n",
    "**Ejercicio**: Implemente la versión numpy vectorizada de la pérdida L2. Hay varias formas de implementar la pérdida L2, pero la función np.dot () puede resultarle útil. Como recordatorio, si $x = [x_1, x_2, ..., x_n]$, then `np.dot(x,x)` = $\\sum_{j=0}^n x_j^{2}$. \n",
    "\n",
    "- La perdida de L2 se define como $$\\begin{align*} & L_2(\\hat{y},y) = \\sum_{i=0}^m(y^{(i)} - \\hat{y}^{(i)})^2 \\end{align*}\\tag{7}$$\n"
   ]
  },
  {
   "cell_type": "code",
   "execution_count": 16,
   "metadata": {
    "colab": {
     "base_uri": "https://localhost:8080/"
    },
    "id": "oFHUmHUkKjid",
    "outputId": "0a44176b-1344-4335-d2ca-5ed7c3a3f193"
   },
   "outputs": [
    {
     "name": "stdout",
     "output_type": "stream",
     "text": [
      "L2 = [0.43]\n"
     ]
    }
   ],
   "source": [
    "# GRADED FUNCTION: L2\n",
    "\n",
    "def L2(yhat, y):\n",
    "    \"\"\"\n",
    "    Arguments:\n",
    "    yhat -- vector of size m (predicted labels)\n",
    "    y -- vector of size m (true labels)\n",
    "    \n",
    "    Returns:\n",
    "    loss -- the value of the L2 loss function defined above\n",
    "    \"\"\"\n",
    "    \n",
    "    ### START CODE HERE ### (≈ 1 line of code)\n",
    "    loss = np.sum(np.square(abs(y-yhat)), keepdims = True)\n",
    "    ### END CODE HERE ###\n",
    "    \n",
    "    return loss\n",
    "\n",
    "yhat = np.array([.9, 0.2, 0.1, .4, .9])\n",
    "y = np.array([1, 0, 0, 1, 1])\n",
    "print(\"L2 = \" + str(L2(yhat,y)))"
   ]
  },
  {
   "cell_type": "markdown",
   "metadata": {
    "id": "P-ItIws0Lh9f"
   },
   "source": [
    "**Expected Output**: \n",
    "<table style=\"width:20%\">\n",
    "     <tr> \n",
    "       <td> **L2** </td> \n",
    "       <td> 0.43 </td> \n",
    "     </tr>\n",
    "</table>\n",
    "\n",
    "____\n",
    "\n",
    "Felicitaciones por completar esta tarea. Esperamos que este pequeño ejercicio de calentamiento te ayude en las asignaciones futuras, ¡que serán más emocionantes e interesantes!\n",
    "\n",
    "_____\n",
    "**Qué recordar:**\n",
    "- La vectorización es muy importante en el aprendizaje profundo. Proporciona eficiencia y claridad computacionales.\n",
    "- Ha revisado la pérdida L1 y L2.\n",
    "- Está familiarizado con muchas funciones numpy como np.sum, np.dot, np.multiply, np.maximum, etc ..."
   ]
  },
  {
   "cell_type": "markdown",
   "metadata": {
    "id": "yCoRvSUIjkhu"
   },
   "source": [
    "___\n",
    "## 0303 Vectorización de la Regresión Logística - 05/07\n",
    "___\n",
    "### Vectorización\n",
    "* Permite implementar los algoritmos de forma eficiente\n",
    "\n",
    "### Vectorización del algoritmo de regresión lineal\n",
    "\n",
    "#### Algoritmo sin vectorizar\n",
    "- Datos:\n",
    "    * Instancias de 1 a m \n",
    "    * Instancias solo con 2 atributos\n",
    "    * En “y” se almacenan las etiquetas\n",
    "    * En “J” se almacenará el costo\n",
    "    * En “dw1” se almacenará la derivada de J con respecto a w1\n",
    "```\n",
    "— Pseudocódigo — \n",
    "logistic_regression (x1[m], x2[m], y[m]):\n",
    "\n",
    "\t— Inicialización de variables — \n",
    "\tJ, dw1, dw2, db := 0;\n",
    "\tz, y_hat, dz := array[m];\n",
    "\n",
    "\tfor i = 1 to m\n",
    "\t\t— Prop. Hacía adelante — \n",
    "\t\t/*  w1 y w2 son los parametros del modelo, inicial teniendo un valor \t\taleatorio, el algo. De descenso de gradiente es el que irá ajustando \t\tlos valores de w1 y w2 a los valores reales */\n",
    "\t\tz[ i ] := w1*x1[ i ]  + w2*x2[ i ]  + b;\n",
    "\t\ty_hat[ i ] := sigmoid(z[ i ]);\n",
    "\t\tJ += L(y[ i ], y_hat[ i ]); // J acumula la suma de las perdidas\n",
    "        dz[i] := y_hat[i] - y[i]\n",
    "\t\t— Prop. Hacia atrás — \n",
    "\t\tdw1 += x1[ i ] * dz[ i ]; \n",
    "\t\tdw2 += x2[ i ] * dz[ i ]; \n",
    "\t\tdb += dz[ i ];\n",
    "\n",
    "\tJ /= m; // Obtener el costo\n",
    "\tdw1 /= m; // Obtener la derivada del costo con respecto a w1\n",
    "\tdw2 /= m; // Obtener la derivada del costo con respecto a w2\n",
    "\tdb /= m; // Obtener la derivada del costo con respecto a b\n",
    "```\n",
    "#### Vectorización de Propagación para adelante\n",
    "##### **Función Logistica**\n",
    "- Datos:    \n",
    "    * X --> es la matriz que contiene todas las instancias de entrenamiento de tamaño (n,m) cada instancia tiene n elementos o atributos\n",
    "    * w --> es Un vector columna\n",
    "    * wT --> es un vector fila\n",
    "    * n --> es el tamaño de w (Para cada atributo hay un w)\n",
    "    * Cuando se operan vectores se mantienen los tamaños de dimensiones tales que: \n",
    "        1. Se conserva la primer dimensión del primer operando \n",
    "        2. Se conserva la segunda dimensión del segundo operando\n",
    "        * Ejemplo: (1,n) prod.punto (n,m) => (1,m)\n",
    "- La vectorización en la propapagación hacía adelante comienza con la función logistica donde para desarrollar z se debe resolver el producto punto entre el vector fila y cada uno de los vectores columna que conforman la matriz X\n",
    "    * Gracias al broadcasting al momento de sumar **b** para completar la propagación hacía adelante, se logra sumar **b** a cada uno de los elementos que conforman la matriz\n",
    "    * **Z** hace referencia a la función de z pero vectorizada\n",
    "\n",
    "##### Pasos para vecotrizar ***z***\n",
    "![Z vectorizado](https://drive.google.com/uc?export=view&id=1T-3tZ4VHW7w4eN9cVOnWHnSkCBUf3Xvb)\n",
    "\n",
    "##### Pasos para vectorizar ***y_hat*** la cual es la función sigmoide de ***z***\n",
    "* Desarrollado previamente en el lab01\n",
    "    - Recibir un vector para implementarle la función sigmoide, retornando un vector, donde se habra realizado la función sigmoide a cada uno de los elementos del vector usando **numpy** especificamente con la función **np.exp()**\n",
    "* **A** hace referencia a la función logistica vectorizada, es decir, ***y_hat*** vectorizado\n",
    "\n",
    "![A vectorizado](https://drive.google.com/uc?export=view&id=11SNmXka877ZvV2ph6ot5120RCIQ1NpKZ)\n",
    "\n",
    "#### Vectorización de Propagación para atras\n",
    "1. Lo primero que se calcula en la propagación hacía atras es **dZ** para cada una de las **m** instancias definido como vector fila (1,m) \n",
    "    * dz[i] := y_hat[i] - y[i]\n",
    "    * **y_hat** o **A** ya se proporciona en la prop. hacía adelante y **y** se proporciona como parámetro\n",
    "\n",
    "![dZ vectorizado](https://drive.google.com/uc?export=view&id=10_HRuBa8TlE6lBTJMbsNpFhRN7TCU7pr)\n",
    "\n",
    "2. Calcular **dw**, el cual se debe calcular \"n\" veces, es decir si n=2 se debe calcular dw1 y dw2\n",
    "    * Si n es un número que no está definido se dice que se deben de tener **dw** n veces \n",
    "    * Componentes de dw:\n",
    "        * dw1 += x1[ i ] * dz[ i ]; \n",
    "\t\t* dw2 += x2[ i ] * dz[ i ];\n",
    "        * Al final se divide entre m \n",
    "            * dw1 /= m; \n",
    "\t        * dw2 /= m; \n",
    "\n",
    "##### Pasos para vectorizar **dw**\n",
    "1. Se propone un vector **dw** que contiene las n dw a calcular el cual es un vector columna\n",
    "2. **dw** Se define como:\n",
    "    * 1/m * La sumatoria de dw en cada uno de los n atributos\n",
    "\n",
    "![dw propuesto](https://drive.google.com/uc?export=view&id=1pngUzfrqraEx1z916dHoR6v3Ca3Zq2j6)\n",
    "\n",
    "3. La vecotorización de **dw** se define matemáticamente como:\n",
    "\n",
    "![dw propuesto](https://drive.google.com/uc?export=view&id=1KXxGcarOBsOC2g_PE2mdlVMNR21AlVQ3)\n",
    "\n",
    "4. La vecotorización de **dw** utilizando **numpy** no retorna un vector, sino un número real.\n",
    "5. La vecotorización de **dw** utilizando **numpy** queda de está manera:\n",
    "\n",
    "![dw propuesto](https://drive.google.com/uc?export=view&id=1omXSDq2cBrTX1GiVirHFhnsetl9PaTLf)\n",
    "\n",
    "### Resumen de formulas vistas\n",
    "![dw propuesto](https://drive.google.com/uc?export=view&id=1RLKeioMSqXss_BOmdUCqxKuKgWlqt5sJ)"
   ]
  },
  {
   "cell_type": "markdown",
   "metadata": {
    "id": "Rd-XNKk5fWFX"
   },
   "source": [
    "___\n",
    "## 0303 Vectorización de la Regresión Logística - 05/07\n",
    "___\n",
    "# Regresión logística con una mentalidad de red neuronal\n",
    "\n",
    "¡Bienvenido a su primera asignación de programación (requerida)! Construirá un clasificador de regresión logística para reconocer gatos. Esta tarea lo guiará a través de cómo hacer esto con una mentalidad de red neuronal y, por lo tanto, también perfeccionará sus intuiciones sobre el aprendizaje profundo.\n",
    "\n",
    "**Instrucciones:**\n",
    "- No use bucles (for / while) en su código, a menos que las instrucciones le pidan explícitamente que lo haga.\n",
    "\n",
    "**Aprenderás a:**\n",
    "- Construir la arquitectura general de un algoritmo de aprendizaje, que incluye:\n",
    "     - Inicializando parámetros\n",
    "     - Cálculo de la función de coste y su gradiente.\n",
    "     - Usando un algoritmo de optimización (descenso de gradiente)\n",
    "- Reúna las tres funciones anteriores en una función de modelo principal, en el orden correcto.\n",
    "____\n",
    "### Anotaciones - Regresión logística en redes neuronales\n",
    "* **La red neuronal de este ejercicio solo posee 1 neurona**\n",
    "* La regresión logística es utilizada también en la estadística\n",
    "____\n",
    "## <font color = 'darkblue'> Actualizaciones </font>\n",
    "Este portátil se ha actualizado durante los últimos meses. La versión anterior se llamaba \"v5\" y la versión actual ahora se llama \"6a\".\n",
    "\n",
    "#### Si estaba trabajando en una versión anterior:\n",
    "* Puede encontrar su trabajo anterior buscando en el directorio de archivos los archivos más antiguos (nombrados por el nombre de la versión).\n",
    "* Para ver el directorio de archivos, haga clic en el icono \"Coursera\" en la esquina superior izquierda de este cuaderno.\n",
    "* Copie su trabajo de las versiones anteriores a la nueva para enviar su trabajo para su calificación.\n",
    "\n",
    "#### Lista de actualizaciones\n",
    "* Fórmula de propagación hacia adelante, la indexación ahora comienza en 1 en lugar de 0.\n",
    "* El comentario de la función de optimización ahora dice \"costo de impresión cada 100 iteraciones de entrenamiento\" en lugar de \"ejemplos\".\n",
    "* Gramática fija en los comentarios.\n",
    "* El nombre de la variable Y_prediction_test se utiliza de forma coherente.\n",
    "* La etiqueta del eje del gráfico ahora dice \"iteraciones (cien)\" en lugar de \"iteraciones\".\n",
    "* Al probar el modelo, la imagen de prueba se normaliza dividiendo por 255.\n",
    "\n",
    "## 1 - Paquetes ##\n",
    "\n",
    "Primero, ejecutemos la celda a continuación para importar todos los paquetes que necesitará durante esta asignación.\n",
    "- [numpy] (www.numpy.org) es el paquete fundamental para la computación científica con Python.\n",
    "- [h5py] (http://www.h5py.org) es un paquete común para interactuar con un conjunto de datos que se almacena en un archivo H5.\n",
    "- [matplotlib] (http://matplotlib.org) es una famosa biblioteca para trazar gráficos en Python.\n",
    "- [PIL] (http://www.pythonware.com/products/pil/) y [scipy] (https://www.scipy.org/) se utilizan aquí para probar su modelo con su propia imagen al final .\n",
    "\n"
   ]
  },
  {
   "cell_type": "code",
   "execution_count": 17,
   "metadata": {
    "id": "fl50Dk-IfsEQ"
   },
   "outputs": [],
   "source": [
    "import numpy as np\n",
    "import matplotlib.pyplot as plt # pyplot es el módulo que comunmente se utiliza\n",
    "import h5py # Leer data set\n",
    "import scipy # Mostrar imagenes propias y probar el modelo\n",
    "from PIL import Image # Mostrar imagenes propias\n",
    "from scipy import ndimage # Mostrar imagenes propias\n",
    "from lr_utils import load_dataset # Contiene una función para cargar dataset usando h5py\n",
    "\n",
    "%matplotlib inline"
   ]
  },
  {
   "cell_type": "markdown",
   "metadata": {
    "id": "75ZOaOzkftYJ"
   },
   "source": [
    "## 2 - Descripción general del conjunto de problemas ##\n",
    "\n",
    "**Declaración del problema**: se le proporciona un conjunto de datos (\"data.h5\") que contiene:\n",
    "\n",
    "    - un conjunto de entrenamiento de imágenes de m_train etiquetadas como gato (y = 1) o no gato (y = 0)\n",
    "    - un conjunto de prueba de imágenes m_test etiquetadas como gato o no gato\n",
    "    - cada imagen tiene la forma (num_px, num_px, 3) donde 3 es para los 3 canales (RGB). Por lo tanto, cada imagen es cuadrada (alto = num_px) y (ancho = num_px).\n",
    "\n",
    "Construirá un algoritmo de reconocimiento de imágenes simple que puede clasificar correctamente las imágenes como gatos o no gatos.\n",
    "\n",
    "Familiaricémonos más con el conjunto de datos. Cargue los datos ejecutando el siguiente código.\n",
    "____\n",
    "### Anotaciones - Análisis del problema\n",
    "0. **Preprocesado - Establecer las dimensiones a los vectores** \n",
    "1. Se tiene un conjunto de datos en formato h5 que contiene:\n",
    "    * Ambos estan etiquetados y = 1 -> Es gato | y = 0 -> No es gato\n",
    "    * Cada uno de las imágenes tiene las dimensiones -> (num_px, num_px, 3) los cuales debenran ser cambiados a arreglos o vectores columna\n",
    "        1. Conjunto de entraiemto\n",
    "\n",
    "        2. Conjunto de prueba -> Sirve para evaluar el modelo, contiene instancias, que son tomadas de la misma distribución del conjunto de entrenamiento\n",
    "\n",
    "* Es importante que el modelo sea capaz de generalizar, es decir, que también funcione con conjuntos de datos que no sean los mismos datos de entrenamiento\n",
    "\n",
    "2. Lo que devuelve el método load_dataset () es una tupla de 5 elementos\n",
    "    1. Atributos del conjunto de entrenamiento en formato original\n",
    "    2. Las etiquetas del conjunto de entrenamiento\n",
    "    3. Atributos del conjunto de entrenamiento en formato original\n",
    "    4. Las etiquetas del conjunto de entrenamiento\n",
    "    5. Nombres de las clases -> cat & noncat\n",
    "____"
   ]
  },
  {
   "cell_type": "code",
   "execution_count": 18,
   "metadata": {
    "id": "deOAIK3pgZh2"
   },
   "outputs": [],
   "source": [
    "# Loading the data (cat/non-cat)\n",
    "train_set_x_orig, train_set_y, test_set_x_orig, test_set_y, classes = load_dataset() # load_dataset devuelve una tupla con 5 elementos"
   ]
  },
  {
   "cell_type": "markdown",
   "metadata": {
    "id": "TYT4qcMlgc0s"
   },
   "source": [
    "\n",
    "Agregamos \"_orig\" al final de los conjuntos de datos de imágenes (entrenar y probar) porque los vamos a preprocesar. Después del preprocesamiento, terminaremos con train_set_x y test_set_x (las etiquetas train_set_y y test_set_y no necesitan ningún preprocesamiento).\n",
    "\n",
    "Cada línea de tu train_set_x_orig y test_set_x_orig es una matriz que representa una imagen. Puede visualizar un ejemplo ejecutando el siguiente código. Siéntase libre también de cambiar el valor del \"índice\" y volver a ejecutarlo para ver otras imágenes."
   ]
  },
  {
   "cell_type": "code",
   "execution_count": 19,
   "metadata": {
    "id": "L0K-0b29gecQ"
   },
   "outputs": [
    {
     "name": "stdout",
     "output_type": "stream",
     "text": [
      "y = [1], it's a 'cat' picture.\n"
     ]
    },
    {
     "data": {
      "image/png": "[encoded data removed]",
      "text/plain": [
       "<Figure size 432x288 with 1 Axes>"
      ]
     },
     "metadata": {
      "needs_background": "light"
     },
     "output_type": "display_data"
    }
   ],
   "source": [
    "# Example of a picture\n",
    "index = 24\n",
    "plt.imshow(train_set_x_orig[index]) \n",
    "# Mostrar imagen y etiqueta en el conjunto de entrenamiento\n",
    "print (\"y = \" + str(train_set_y[:, index]) + \", it's a '\" + classes[np.squeeze(train_set_y[:, index])].decode(\"utf-8\") +  \"' picture.\")"
   ]
  },
  {
   "cell_type": "markdown",
   "metadata": {
    "id": "m0VnLDEjgyOl"
   },
   "source": [
    "\n",
    "![dZ vectorizado](https://drive.google.com/uc?export=view&id=1p0SN6ufNlrhhKRXt8PLDi6Fc4OPgqQKn)\n",
    "_____\n",
    "Muchos errores de software en el aprendizaje profundo provienen de tener dimensiones matriciales / vectoriales que no encajan. Si puede mantener las dimensiones de su matriz / vector rectas, avanzará en gran medida hacia la eliminación de muchos errores.\n",
    "\n",
    "**Ejercicio:** Encuentra los valores para:\n",
    "     - m_train (número de ejemplos de entrenamiento)\n",
    "     - m_test (número de ejemplos de prueba)\n",
    "     - num_px (= altura = ancho de una imagen de entrenamiento)\n",
    "Recuerda que `train_set_x_orig` es una matriz numérica de formas (m_train, num_px, num_px, 3). Por ejemplo, puede acceder a `m_train` escribiendo` train_set_x_orig.shape [0] `.\n"
   ]
  },
  {
   "cell_type": "code",
   "execution_count": 20,
   "metadata": {
    "id": "51ebKCOWhBK6"
   },
   "outputs": [
    {
     "name": "stdout",
     "output_type": "stream",
     "text": [
      "train_set_x shape: (209, 64, 64, 3)\n",
      "train_set_y shape: (1, 209)\n",
      "test_set_x shape: (50, 64, 64, 3)\n",
      "test_set_y shape: (1, 50)\n",
      "Number of training examples: m_train = 209\n",
      "Number of testing examples: m_test = 50\n",
      "Height/Width of each image: num_px = 64\n",
      "Each image is of size: (64, 64, 3)\n",
      "train_set_x shape: (209, 64, 64, 3)\n",
      "train_set_y shape: (1, 209)\n",
      "test_set_x shape: (50, 64, 64, 3)\n",
      "test_set_y shape: (1, 50)\n"
     ]
    },
    {
     "data": {
      "text/plain": [
       "'\\n------------------------------ Resultado esperado ------------------------------\\nNumber of training examples: m_train = 209\\nNumber of testing examples: m_test = 50\\nHeight/Width of each image: num_px = 64\\nEach image is of size: (64, 64, 3)\\ntrain_set_x shape: (209, 64, 64, 3)\\ntrain_set_y shape: (1, 209)\\ntest_set_x shape: (50, 64, 64, 3)\\ntest_set_y shape: (1, 50)\\n'"
      ]
     },
     "execution_count": 20,
     "metadata": {},
     "output_type": "execute_result"
    }
   ],
   "source": [
    "print (\"train_set_x shape: \" + str(train_set_x_orig.shape))\n",
    "print (\"train_set_y shape: \" + str(train_set_y.shape))\n",
    "print (\"test_set_x shape: \" + str(test_set_x_orig.shape))\n",
    "print (\"test_set_y shape: \" + str(test_set_y.shape))\n",
    "\n",
    "\"\"\"\n",
    "------------------------------ Resultado esperado ------------------------------\n",
    "\n",
    "train_set_x shape: (209, 64, 64, 3)\n",
    "train_set_y shape: (1, 209)\n",
    "test_set_x shape: (50, 64, 64, 3)\n",
    "test_set_y shape: (1, 50)\n",
    "\"\"\"\n",
    "################################################################################\n",
    "\n",
    "### START CODE HERE ### (≈ 3 lines of code)\n",
    "m_train = train_set_x_orig.shape[0] # Instancias del conjunto de entrenamiento \n",
    "m_test = test_set_x_orig.shape[0] # Instancias del conjunto de prueba \n",
    "num_px = test_set_x_orig.shape[1] # Dimensiones de las imagenes\n",
    "### END CODE HERE ###\n",
    "\n",
    "print (\"Number of training examples: m_train = \" + str(m_train))\n",
    "print (\"Number of testing examples: m_test = \" + str(m_test))\n",
    "print (\"Height/Width of each image: num_px = \" + str(num_px))\n",
    "print (\"Each image is of size: (\" + str(num_px) + \", \" + str(num_px) + \", 3)\")\n",
    "print (\"train_set_x shape: \" + str(train_set_x_orig.shape))\n",
    "print (\"train_set_y shape: \" + str(train_set_y.shape))\n",
    "print (\"test_set_x shape: \" + str(test_set_x_orig.shape))\n",
    "print (\"test_set_y shape: \" + str(test_set_y.shape))\n",
    "\n",
    "\n",
    "\"\"\"\n",
    "------------------------------ Resultado esperado ------------------------------\n",
    "Number of training examples: m_train = 209\n",
    "Number of testing examples: m_test = 50\n",
    "Height/Width of each image: num_px = 64\n",
    "Each image is of size: (64, 64, 3)\n",
    "train_set_x shape: (209, 64, 64, 3)\n",
    "train_set_y shape: (1, 209)\n",
    "test_set_x shape: (50, 64, 64, 3)\n",
    "test_set_y shape: (1, 50)\n",
    "\"\"\""
   ]
  },
  {
   "cell_type": "markdown",
   "metadata": {
    "id": "_CPl9Q1OhrJO"
   },
   "source": [
    "Para mayor comodidad, ahora debe remodelar las imágenes de forma (num_px, num_px, 3) en una matriz de formas numpy (num_px $ * $ num_px $ * $ 3, 1). Después de esto, nuestro conjunto de datos de entrenamiento (y prueba) es una matriz numérica donde cada columna representa una imagen plana. Debe haber columnas m_train (respectivamente m_test).\n",
    "\n",
    "**Ejercicio:** Reforma los conjuntos de datos de entrenamiento y prueba para que las imágenes de tamaño (num_px, num_px, 3) se aplanen en vectores simples de forma (num \\ _px $ * $ num \\ _px $ * $ 3, 1).\n",
    "\n",
    "Un truco cuando quieres aplanar una matriz X de forma (a, b, c, d) a una matriz X_plana de forma (b $ * $ c $ * $ d, a) es usar:\n",
    "```python\n",
    "X_flatten = X.reshape(X.shape[0], -1).T      # X.T is the transpose of X\n",
    "```\n",
    "____\n",
    "### Anotaciones - Atajo del reshape\n",
    "#### **X_flatten = X.rehape (X.shape [0], -1) .T**\n",
    "1. Se define la primer dimensión\n",
    "2. La segunda dimensión (-1) significa que debe hacer la dimensión del tamaño tal que quepan todos los elementos de x\n",
    "3. El .T significa que se debe aplicar la transpuesta porque se necesita que las instancias se tengan en las columnas y no en las filas\n",
    "_____"
   ]
  },
  {
   "cell_type": "code",
   "execution_count": 21,
   "metadata": {
    "id": "5nZWN6MRiq_9"
   },
   "outputs": [
    {
     "name": "stdout",
     "output_type": "stream",
     "text": [
      "train_set_x_flatten shape: (12288, 209)\n",
      "train_set_y shape: (1, 209)\n",
      "test_set_x_flatten shape: (12288, 50)\n",
      "test_set_y shape: (1, 50)\n",
      "sanity check after reshaping: [17 31 56 22 33]\n"
     ]
    },
    {
     "data": {
      "text/plain": [
       "'\\n------------------------------ Resultado esperado ------------------------------\\ntrain_set_x_flatten shape: (12288, 209)\\ntrain_set_y shape: (1, 209)\\ntest_set_x_flatten shape: (12288, 50)\\ntest_set_y shape: (1, 50)\\nsanity check after reshaping: [17 31 56 22 33]\\n'"
      ]
     },
     "execution_count": 21,
     "metadata": {},
     "output_type": "execute_result"
    }
   ],
   "source": [
    "# Reshape the training and test examples\n",
    "\n",
    "### START CODE HERE ### (≈ 2 lines of code)\n",
    "train_set_x_flatten = train_set_x_orig.reshape(m_train, -1).T\n",
    "test_set_x_flatten = test_set_x_orig.reshape(m_test, -1).T\n",
    "### END CODE HERE ###\n",
    "\n",
    "print (\"train_set_x_flatten shape: \" + str(train_set_x_flatten.shape))\n",
    "print (\"train_set_y shape: \" + str(train_set_y.shape))\n",
    "print (\"test_set_x_flatten shape: \" + str(test_set_x_flatten.shape))\n",
    "print (\"test_set_y shape: \" + str(test_set_y.shape))\n",
    "print (\"sanity check after reshaping: \" + str(train_set_x_flatten[0:5,0])) # Primeros 5 atributos de la fila 0\n",
    "\n",
    "\"\"\"\n",
    "------------------------------ Resultado esperado ------------------------------\n",
    "train_set_x_flatten shape: (12288, 209)\n",
    "train_set_y shape: (1, 209)\n",
    "test_set_x_flatten shape: (12288, 50)\n",
    "test_set_y shape: (1, 50)\n",
    "sanity check after reshaping: [17 31 56 22 33]\n",
    "\"\"\""
   ]
  },
  {
   "cell_type": "markdown",
   "metadata": {
    "id": "5SBGC5W5kAII"
   },
   "source": [
    "Para representar imágenes en color, se deben especificar los canales rojo, verde y azul (RGB) para cada píxel, por lo que el valor del píxel es en realidad un vector de tres números que van de 0 a 255.\n",
    "\n",
    "Un paso de preprocesamiento común en el aprendizaje automático es centrar y estandarizar su conjunto de datos, lo que significa que debe restar la media de toda la matriz numpy de cada ejemplo y luego dividir cada ejemplo por la desviación estándar de toda la matriz numpy. Pero para los conjuntos de datos de imágenes, es más simple y conveniente y funciona casi tan bien simplemente dividir cada fila del conjunto de datos por 255 (el valor máximo de un canal de píxeles).\n",
    "\n",
    "Durante el entrenamiento de su modelo, multiplicará los pesos y agregará sesgos a algunas entradas iniciales para observar las activaciones de las neuronas. Luego, se retropropone con los degradados para entrenar el modelo. Pero es extremadamente importante que cada característica tenga un rango similar para que nuestros gradientes no exploten. Verá eso con más detalle más adelante en las conferencias.\n",
    "\n",
    "Estandaricemos nuestro conjunto de datos.\n",
    "____\n",
    "### Anotaciones - Estandarización\n",
    "1. Después de definirle las dimensiones correctas a los vectores se debe hacer la normalización\n",
    "2. Antes de la normalización se debe hacer la **Estandarización**\n",
    "3. La **Estandarización** consiste en restarle la media a las filas de los atributos y luego dividirlos entre la desviación estándar\n",
    "\n",
    "* La normalización y la estandarización para mejorar el rendimiento de los modelos al entrenarlos\n",
    "* Se prefiere la estandarización porque al restar la normal los datos se centran en 0\n",
    "* La estandarización permite que al dividir entre la desviación estándar ayuda a que si hay atributos en escalas diferentes al dividirlos con la desviación estándar, quedan todos en la misma escala\n",
    "\n",
    "* Para el **tratamiento de imagenes** se utiliza un tipo de estandarización específico, solamente dividiendo los conjuntos entre 255 obteniendo los conjuntos definitivos"
   ]
  },
  {
   "cell_type": "code",
   "execution_count": 22,
   "metadata": {
    "id": "Qk73FsA3ke1M"
   },
   "outputs": [],
   "source": [
    "# Estandarización para imagenes\n",
    "train_set_x = train_set_x_flatten/255.\n",
    "test_set_x = test_set_x_flatten/255."
   ]
  },
  {
   "cell_type": "markdown",
   "metadata": {
    "id": "TY1hTdT-k2vZ"
   },
   "source": [
    "**Lo que necesita recordar:**\n",
    "\n",
    "Los pasos comunes para preprocesar un nuevo conjunto de datos son:\n",
    "- Averiguar las dimensiones y formas del problema (m_train, m_test, num_px, ...)\n",
    "- Reformar los conjuntos de datos de modo que cada ejemplo sea ahora un vector de tamaño (num_px \\ * num_px \\ * 3, 1)\n",
    "- \"Estandarizar\" los datos\n",
    "\n",
    "\n",
    "## 3 - Arquitectura general del algoritmo de aprendizaje ##\n",
    "\n",
    "Es hora de diseñar un algoritmo simple para distinguir imágenes de gatos de imágenes que no son de gatos.\n",
    "\n",
    "Construirá una regresión logística, utilizando una mentalidad de red neuronal. La siguiente figura explica por qué **¡La regresión logística es en realidad una red neuronal muy simple!**\n",
    "\n",
    "![dZ vectorizado](https://drive.google.com/uc?export=view&id=19_hkklhmqLq61aKb0Q1_nHZ7jetBQEIq)\n",
    "\n",
    "**Expresión matemática del algoritmo**:\n",
    "\n",
    "Por ejemplo $ x ^ {(i)} $:\n",
    "$$ z ^ {(i)} = w ^ T x ^ {(i)} + b \\ etiqueta {1} $$\n",
    "$$ \\ hat {y} ^ {(i)} = a ^ {(i)} = sigmoide (z ^ {(i)}) \\ etiqueta {2} $$\n",
    "$$ \\ mathcal {L} (a ^ {(i)}, y ^ {(i)}) = - y ^ {(i)} \\ log (a ^ {(i)}) - (1-y ^ {(i)}) \\ log (1-a ^ {(i)}) \\ etiqueta {3} $$\n",
    "\n",
    "Luego, el costo se calcula sumando todos los ejemplos de capacitación:\n",
    "$$ J = \\ frac {1} {m} \\ sum_ {i = 1} ^ m \\ mathcal {L} (a ^ {(i)}, y ^ {(i)}) \\ etiqueta {6} $$\n",
    "\n",
    "**Pasos clave**:\n",
    "En este ejercicio, realizará los siguientes pasos:\n",
    "    - Inicializar los parámetros del modelo\n",
    "    - Conozca los parámetros del modelo minimizando el costo\n",
    "    - Utilice los parámetros aprendidos para hacer predicciones (en el equipo de prueba)\n",
    "    - Analizar los resultados y concluir\n",
    "\n",
    "___\n",
    "\n",
    "### Anotaciones - Arquitectura general del algoritmo de aprendizaje \n",
    "### Red neuronal de una sola neurona\n",
    "\n",
    "* La regresión logistica vista como una red neuronal es una red neuronal compuesta de solamente una neurona\n",
    "* Los elementos que la componen son: \n",
    "    1. Función de costo - A\n",
    "    2. Atributos - x\n",
    "    3. Peso - w\n",
    "* El peso coinside con cada uno de los atributos\n",
    "* Al procesarse por la función de costo, se produce una probabilidad a la que se le aplica un umbral para tomar una decisión\n",
    "_____\n",
    "\n",
    "## 4 - Construyendo las partes de nuestro algoritmo ##\n",
    "\n",
    "Los pasos principales para construir una red neuronal son:\n",
    "1. Definir la estructura del modelo (como el número de características de entrada)\n",
    "2. Inicializar los parámetros del modelo\n",
    "3. Bucle:\n",
    "     - Calcular la pérdida de corriente (propagación hacia adelante)\n",
    "     - Calcular gradiente actual (propagación hacia atrás)\n",
    "     - Actualizar parámetros (descenso de gradiente)\n",
    "\n",
    "A menudo, construye 1-3 por separado y los integra en una función que llamamos `modelo ()`.\n",
    "\n",
    "### 4.1 - Funciones de ayuda\n",
    "\n",
    "**Ejercicio**: Usando su código de \"Python Basics\", implemente `sigmoid ()`. Como ha visto en la figura anterior, necesita calcular $ sigmoidea (w ^ T x + b) = \\ frac {1} {1 + e ^ {- (w ^ T x + b)}} $ para hacer predicciones. Utilice np.exp ()."
   ]
  },
  {
   "cell_type": "code",
   "execution_count": 23,
   "metadata": {
    "id": "Mvqe9-QJnWfr"
   },
   "outputs": [
    {
     "name": "stdout",
     "output_type": "stream",
     "text": [
      "sigmoid([0, 2]) = [0.5        0.88079708]\n"
     ]
    },
    {
     "data": {
      "text/plain": [
       "'\\n------------------------------ Resultado esperado ------------------------------\\nsigmoid([0, 2]) = [0.5   0.88079708]\\n'"
      ]
     },
     "execution_count": 23,
     "metadata": {},
     "output_type": "execute_result"
    }
   ],
   "source": [
    "# GRADED FUNCTION: sigmoid\n",
    "import numpy as np\n",
    "\n",
    "def sigmoid(z):\n",
    "    \"\"\"\n",
    "    Compute the sigmoid of z\n",
    "\n",
    "    Arguments:\n",
    "    z -- A scalar or numpy array of any size.\n",
    "\n",
    "    Return:\n",
    "    s -- sigmoid(z)\n",
    "    \"\"\"\n",
    "\n",
    "    ### START CODE HERE ### (≈ 1 line of code)\n",
    "    s = 1.0 / (1.0 + np.exp(-z))\n",
    "    ### END CODE HERE ###\n",
    "    \n",
    "    return s\n",
    "\n",
    "print (\"sigmoid([0, 2]) = \" + str(sigmoid(np.array([0,2]))))\n",
    "\n",
    "\"\"\"\n",
    "------------------------------ Resultado esperado ------------------------------\n",
    "sigmoid([0, 2]) = [0.5   0.88079708]\n",
    "\"\"\""
   ]
  },
  {
   "cell_type": "markdown",
   "metadata": {
    "id": "MI_6__00nj0N"
   },
   "source": [
    "### 4.2 - Inicializando parámetros\n",
    "\n",
    "**Ejercicio:** Implemente la inicialización de parámetros en la celda siguiente. Tienes que inicializar w como un vector de ceros. Si no sabe qué función numpy usar, busque np.zeros () en la documentación de la biblioteca Numpy.\n",
    "\n",
    "**Se recomienda inicializarlos en 0 porque eso ayuda al aprendizaje del algoritmo**\n",
    "**Dimensiones --> dim => n**  "
   ]
  },
  {
   "cell_type": "code",
   "execution_count": 24,
   "metadata": {
    "id": "eKoBH0wVnqc8"
   },
   "outputs": [
    {
     "name": "stdout",
     "output_type": "stream",
     "text": [
      "w = [[0.]\n",
      " [0.]]\n",
      "b = 0\n"
     ]
    },
    {
     "data": {
      "text/plain": [
       "'\\n------------------------------ Resultado esperado ------------------------------\\nw = [[0.][0.]]\\nb = 0\\n'"
      ]
     },
     "execution_count": 24,
     "metadata": {},
     "output_type": "execute_result"
    }
   ],
   "source": [
    "# GRADED FUNCTION: initialize_with_zeros\n",
    "\n",
    "def initialize_with_zeros(dim):\n",
    "    \"\"\"\n",
    "    This function creates a vector of zeros of shape (dim, 1) for w and initializes b to 0.\n",
    "    \n",
    "    Argument:\n",
    "    dim -- size of the w vector we want (or number of parameters in this case)\n",
    "    \n",
    "    Returns:\n",
    "    w -- initialized vector of shape (dim, 1)\n",
    "    b -- initialized scalar (corresponds to the bias)\n",
    "    \"\"\"\n",
    "    \n",
    "    ### START CODE HERE ### (≈ 1 line of code)\n",
    "    \n",
    "    # Inicio de w y b cerca de 0\n",
    "    w = np.zeros((dim,1)) # vector columna\n",
    "    b = 0 # Valor escalar\n",
    "    ### END CODE HERE ###\n",
    "\n",
    "    assert(w.shape == (dim, 1))\n",
    "    assert(isinstance(b, float) or isinstance(b, int))\n",
    "    \n",
    "    return w, b\n",
    "\n",
    "dim = 2\n",
    "w, b = initialize_with_zeros(dim)\n",
    "print (\"w = \" + str(w))\n",
    "print (\"b = \" + str(b))\n",
    "\n",
    "\"\"\"\n",
    "------------------------------ Resultado esperado ------------------------------\n",
    "w = [[0.][0.]]\n",
    "b = 0\n",
    "\"\"\""
   ]
  },
  {
   "cell_type": "markdown",
   "metadata": {
    "id": "bV9iIBVPongK"
   },
   "source": [
    "### 4.3 - Propagación hacia adelante y hacia atrás\n",
    "\n",
    "Ahora que sus parámetros están inicializados, puede realizar los pasos de propagación \"hacia adelante\" y \"hacia atrás\" para aprender los parámetros.\n",
    "\n",
    "**Ejercicio:** Implemente una función `propagate ()` que calcule la función de costo y su gradiente.\n",
    "\n",
    "**Sugerencias**:\n",
    "\n",
    "Propagación hacia adelante:\n",
    "- Obtienes X\n",
    "- Calcula $ A = \\ sigma (w ^ TX + b) = (a ^ {(1)}, a ^ {(2)}, ..., a ^ {(m-1)}, a ^ { (m)}) $\n",
    "- Calcula la función de costo: $ J = - \\ frac {1} {m} \\ sum_ {i = 1} ^ {m} y ^ {(i)} \\ log (a ^ {(i)}) + ( 1-y ^ {(i)}) \\ log (1-a ^ {(i)}) $\n",
    "\n",
    "Aquí están las dos fórmulas que usará:\n",
    "\n",
    "$$ \\ frac {\\ parcial J} {\\ parcial w} = \\ frac {1} {m} X (A-Y) ^ T \\ etiqueta {7} $$\n",
    "$$ \\ frac {\\ parcial J} {\\ parcial b} = \\ frac {1} {m} \\ sum_ {i = 1} ^ m (a ^ {(i)} - y ^ {(i)}) \\ etiqueta {8} $$\n",
    "\n",
    "\n",
    "Aquí están las dos fórmulas que usará:\n",
    "\n",
    "$$ \\frac{\\partial J}{\\partial w} = \\frac{1}{m}X(A-Y)^T\\tag{7}$$\n",
    "$$ \\frac{\\partial J}{\\partial b} = \\frac{1}{m} \\sum_{i=1}^m (a^{(i)}-y^{(i)})\\tag{8}$$\n",
    "\n",
    "\n"
   ]
  },
  {
   "cell_type": "code",
   "execution_count": 25,
   "metadata": {
    "id": "N3eU9vAs7_a0"
   },
   "outputs": [
    {
     "name": "stdout",
     "output_type": "stream",
     "text": [
      "dw = [[0.99845601]\n",
      " [2.39507239]]\n",
      "db = 0.001455578136784208\n",
      "cost = 5.801545319394553\n"
     ]
    },
    {
     "data": {
      "text/plain": [
       "'\\n------------------------------ Resultado esperado ------------------------------\\ndw = [[0.99845601] [2.39507239]]\\ndb = 0.001455578136784208\\ncost = 5.801545319394553\\n'"
      ]
     },
     "execution_count": 25,
     "metadata": {},
     "output_type": "execute_result"
    }
   ],
   "source": [
    "# GRADED FUNCTION: propagate\n",
    "\n",
    "def propagate(w, b, X, Y):\n",
    "    \"\"\"\n",
    "    PROPRAGACION PARA ADELANTE Y ATRAS\n",
    "    \n",
    "    Implement the cost function and its gradient for the propagation explained above\n",
    "\n",
    "    Arguments:\n",
    "    w -- weights, a numpy array of size (num_px * num_px * 3, 1)\n",
    "    b -- bias, a scalar\n",
    "    X -- data of size (num_px * num_px * 3, number of examples)\n",
    "    Y -- true \"label\" vector (containing 0 if non-cat, 1 if cat) of size (1, number of examples)\n",
    "\n",
    "    Return:\n",
    "    cost -- negative log-likelihood cost for logistic regression\n",
    "    dw -- gradient of the loss with respect to w, thus same shape as w\n",
    "    db -- gradient of the loss with respect to b, thus same shape as b\n",
    "    \n",
    "    Tips:\n",
    "    - Write your code step by step for the propagation. np.log(), np.dot()\n",
    "    \"\"\" \n",
    "    \n",
    "    m = X.shape[1]\n",
    "    \n",
    "    # FORWARD PROPAGATION (FROM X TO COST)\n",
    "    ### START CODE HERE ### (≈ 2 lines of code)\n",
    "    Z = w.T.dot(X) + b\n",
    "    A = sigmoid(Z)                          # compute activation\n",
    "    cost = np.multiply(-(1/m),np.sum(((np.multiply(Y, np.log(A))) + (np.multiply((1-Y),(np.log(1-A)))))))# compute cost\n",
    "    ### END CODE HERE ###\n",
    "    \n",
    "    # BACKWARD PROPAGATION (TO FIND GRAD)\n",
    "    ### START CODE HERE ### (≈ 2 lines of code)\n",
    "    dZ = A - Y\n",
    "    dw = (1.0 / m) * X.dot(dZ.T)\n",
    "    db = (1.0/m) * np.sum(dZ)\n",
    "    ### END CODE HERE ###\n",
    "\n",
    "    assert(dw.shape == w.shape) # Coincidir las dimensiones\n",
    "    assert(db.dtype == float)\n",
    "    cost = np.squeeze(cost) # Eliminar dimensiones de tamaño 1 con squeeze\n",
    "    assert(cost.shape == ()) # Debe ser un valor flotante no un arreglo\n",
    "    \n",
    "    grads = {\"dw\": dw,\n",
    "             \"db\": db}\n",
    "    \n",
    "    return grads, cost\n",
    "\n",
    "w, b, X, Y = np.array([[1.],[2.]]), 2., np.array([[1.,2.,-1.],[3.,4.,-3.2]]), np.array([[1,0,1]])\n",
    "grads, cost = propagate(w, b, X, Y)\n",
    "print (\"dw = \" + str(grads[\"dw\"]))\n",
    "print (\"db = \" + str(grads[\"db\"]))\n",
    "print (\"cost = \" + str(cost))\n",
    "\n",
    "\n",
    "\"\"\"\n",
    "------------------------------ Resultado esperado ------------------------------\n",
    "dw = [[0.99845601] [2.39507239]]\n",
    "db = 0.001455578136784208\n",
    "cost = 5.801545319394553\n",
    "\"\"\""
   ]
  },
  {
   "cell_type": "markdown",
   "metadata": {
    "id": "IZA3H9Es8Jwm"
   },
   "source": [
    "**Salida Esperada**:\n",
    "\n",
    "<table style=\"width:50%\">\n",
    "    <tr>\n",
    "        <td>  dw  </td>\n",
    "      <td> [[ 0.99845601]\n",
    "     [ 2.39507239]]</td>\n",
    "    </tr>\n",
    "    <tr>\n",
    "        <td>  db </td>\n",
    "        <td> 0.00145557813678 </td>\n",
    "    </tr>\n",
    "    <tr>\n",
    "        <td>  costo  </td>\n",
    "        <td> 5.801545319394553 </td>\n",
    "    </tr>\n",
    "</table>\n",
    "\n",
    "\n",
    "____\n",
    "\n",
    "### 4.4 - Optimización del descenso de gradiente\n",
    "\n",
    "- Ha inicializado sus parámetros.\n",
    "- También puede calcular una función de costo y su gradiente.\n",
    "- Ahora, desea actualizar los parámetros usando el descenso de gradiente.\n",
    "\n",
    "** Ejercicio: ** Anote la función de optimización. El objetivo es aprender $ w $ y $ b $ minimizando la función de costo $J$. Para un parámetro $\\theta$, la regla de actualización es $ \\theta = \\theta - \\alpha \\text{ } d\\theta$, where $\\alpha$ es el ritmo de aprendizaje.\n",
    "\n",
    "___\n",
    "### Anotaciones - Función de Optimización o descenso del gradiente\n",
    "* Sirve para actualizar el costo de b con respecto a w + b\n",
    "* Teniendo la propagación hacía delante y atras sigue realizando el descenso de gradiente\n",
    "    1. Propagación hacía delante -> Costo\n",
    "    2. Propagación haćia atras -> Derivadas\n",
    "        * Sirven para actualizar paso a paso el valor de w y b\n",
    "* En la función optimizar se realiza el proceso del descenso de gradiente una cantidad determinada de veces\n",
    "* La formula de descenso de gradiente utiliza alfa para modificar la longitud del salto que se hace"
   ]
  },
  {
   "cell_type": "code",
   "execution_count": 26,
   "metadata": {
    "id": "yo81lx4Z88JN"
   },
   "outputs": [
    {
     "name": "stdout",
     "output_type": "stream",
     "text": [
      "w = [[0.19033591]\n",
      " [0.12259159]]\n",
      "b = 1.9253598300845747\n",
      "dw = [[0.67752042]\n",
      " [1.41625495]]\n",
      "db = 0.21919450454067657\n"
     ]
    },
    {
     "data": {
      "text/plain": [
       "'\\n------------------------------ Resultado esperado ------------------------------\\nw = [[0.19033591] [0.12259159]]\\nb = 1.9253598300845747\\ndw = [[0.67752042] [1.41625495]]\\ndb = 0.21919450454067657\\n'"
      ]
     },
     "execution_count": 26,
     "metadata": {},
     "output_type": "execute_result"
    }
   ],
   "source": [
    "# GRADED FUNCTION: optimize\n",
    "\n",
    "def optimize(w, b, X, Y, num_iterations, learning_rate, print_cost = False):\n",
    "    \"\"\"\n",
    "    This function optimizes w and b by running a gradient descent algorithm\n",
    "    \n",
    "    Arguments:\n",
    "    w -- weights, a numpy array of size (num_px * num_px * 3, 1)\n",
    "    b -- bias, a scalar\n",
    "    X -- data of shape (num_px * num_px * 3, number of examples)\n",
    "    Y -- true \"label\" vector (containing 0 if non-cat, 1 if cat), of shape (1, number of examples)\n",
    "    num_iterations -- number of iterations of the optimization loop\n",
    "    learning_rate -- learning rate of the gradient descent update rule\n",
    "    print_cost -- True to print the loss every 100 steps\n",
    "    \n",
    "    Returns:\n",
    "    params -- dictionary containing the weights w and bias b\n",
    "    grads -- dictionary containing the gradients of the weights and bias with respect to the cost function\n",
    "    costs -- list of all the costs computed during the optimization, this will be used to plot the learning curve.\n",
    "    \n",
    "    Tips:\n",
    "    You basically need to write down two steps and iterate through them:\n",
    "        1) Calculate the cost and the gradient for the current parameters. Use propagate().\n",
    "        2) Update the parameters using gradient descent rule for w and b.\n",
    "    \"\"\"\n",
    "    \n",
    "    costs = [] # Registro de los costos para gráficar\n",
    "    \n",
    "    for i in range(num_iterations):\n",
    "        \n",
    "        \n",
    "        # Cost and gradient calculation (≈ 1-4 lines of code)\n",
    "        ### START CODE HERE ### \n",
    "        grads, cost = propagate(w, b, X, Y)\n",
    "        ### END CODE HERE ###\n",
    "        \n",
    "        # Retrieve derivatives from grads\n",
    "        dw = grads[\"dw\"]\n",
    "        db = grads[\"db\"]\n",
    "        \n",
    "        # update rule (≈ 2 lines of code)\n",
    "        ### START CODE HERE ###\n",
    "        w = w - learning_rate * dw # Vectorizado\n",
    "        b = b - learning_rate * db # Escalar\n",
    "        ### END CODE HERE ###\n",
    "        \n",
    "        # Record the costs\n",
    "        if i % 100 == 0:\n",
    "            costs.append(cost)\n",
    "        \n",
    "        # Print the cost every 100 training iterations\n",
    "        if print_cost and i % 100 == 0:\n",
    "            print (\"Cost after iteration %i: %f\" %(i, cost))\n",
    "    \n",
    "    params = {\"w\": w,\n",
    "              \"b\": b}\n",
    "    \n",
    "    grads = {\"dw\": dw,\n",
    "             \"db\": db}\n",
    "    \n",
    "    return params, grads, costs\n",
    "\n",
    "params, grads, costs = optimize(w, b, X, Y, num_iterations= 100, learning_rate = 0.009, print_cost = False)\n",
    "\n",
    "print (\"w = \" + str(params[\"w\"]))\n",
    "print (\"b = \" + str(params[\"b\"]))\n",
    "print (\"dw = \" + str(grads[\"dw\"]))\n",
    "print (\"db = \" + str(grads[\"db\"]))\n",
    "\n",
    "\n",
    "\"\"\"\n",
    "------------------------------ Resultado esperado ------------------------------\n",
    "w = [[0.19033591] [0.12259159]]\n",
    "b = 1.9253598300845747\n",
    "dw = [[0.67752042] [1.41625495]]\n",
    "db = 0.21919450454067657\n",
    "\"\"\""
   ]
  },
  {
   "cell_type": "markdown",
   "metadata": {
    "id": "cmW2Ctj99GR2"
   },
   "source": [
    "**Expected Output**: \n",
    "\n",
    "<table style=\"width:40%\">\n",
    "    <tr>\n",
    "       <td> w </td>\n",
    "       <td>[[ 0.19033591]\n",
    " [ 0.12259159]] </td>\n",
    "    </tr>\n",
    "    <tr>\n",
    "       <td> b </td>\n",
    "       <td> 1.92535983008 </td>\n",
    "    </tr>\n",
    "    <tr>\n",
    "       <td> dw </td>\n",
    "       <td> [[ 0.67752042]\n",
    " [ 1.41625495]] </td>\n",
    "    </tr>\n",
    "    <tr>\n",
    "       <td> db </td>\n",
    "       <td> 0.219194504541 </td>\n",
    "    </tr>\n",
    "</table>\n",
    "\n",
    "____\n",
    "** Ejercicio: ** La función anterior generará la w y b aprendidas. Podemos usar w y b para predecir las etiquetas de un conjunto de datos X. Implementar la función `predict ()`. Hay dos pasos para calcular predicciones:\n",
    "\n",
    "1. Calcule $\\hat{Y} = A = \\sigma(w^T X + b)$\n",
    "\n",
    "2. Convierta las entradas de a en 0 (si activación <= 0.5) o 1 (si activación> 0.5), almacena las predicciones en un vector `Y_prediction`. Si lo desea, puede usar una instrucción `if` /` else` en un bucle `for` (aunque también hay una manera de vectorizar esto).\n",
    "\n",
    "_____\n",
    "### Anotaciones - Predicción\n",
    "* Para realizar las predicciones se debe hacer uso del umbral, el cual es de 0.5\n",
    "* **A** Hace referencia a la probabilidad el cual se obtiene a través de la propagación hacía delante\n",
    "* No se necesita vectorizar en operaciones que no se repeten"
   ]
  },
  {
   "cell_type": "code",
   "execution_count": 27,
   "metadata": {
    "id": "0oWa9rUr9hcH"
   },
   "outputs": [
    {
     "name": "stdout",
     "output_type": "stream",
     "text": [
      "predictions = [[1. 1. 0.]]\n"
     ]
    },
    {
     "data": {
      "text/plain": [
       "'\\n------------------------------ Resultado esperado ------------------------------\\npredictions = [[1. 1. 0.]]\\n'"
      ]
     },
     "execution_count": 27,
     "metadata": {},
     "output_type": "execute_result"
    }
   ],
   "source": [
    "# GRADED FUNCTION: predict\n",
    "\n",
    "def predict(w, b, X):\n",
    "    '''\n",
    "    Predict whether the label is 0 or 1 using learned logistic regression parameters (w, b)\n",
    "    \n",
    "    Arguments:\n",
    "    w -- weights, a numpy array of size (num_px * num_px * 3, 1)\n",
    "    b -- bias, a scalar\n",
    "    X -- data of size (num_px * num_px * 3, number of examples)\n",
    "    \n",
    "    Returns:\n",
    "    Y_prediction -- a numpy array (vector) containing all predictions (0/1) for the examples in X\n",
    "    '''\n",
    "    \n",
    "    m = X.shape[1]\n",
    "    Y_prediction = np.zeros((1,m)) # Inicializado en el mismo tamaños de m \n",
    "    w = w.reshape(X.shape[0], 1)\n",
    "    \n",
    "    # Compute vector \"A\" predicting the probabilities of a cat being present in the picture\n",
    "    ### START CODE HERE ### (≈ 1 line of code)\n",
    "    A = sigmoid(w.T.dot(X)+b)\n",
    "    ### END CODE HERE ###\n",
    "    \n",
    "    for i in range(A.shape[1]):\n",
    "        \n",
    "        # Convert probabilities A[0,i] to actual predictions p[0,i]\n",
    "        ### START CODE HERE ### (≈ 4 lines of code)\n",
    "        # Operador ternario para escribir un if en una sola línea de codigo\n",
    "        Y_prediction[0, i] = 1.0 if A[0,i] >= 0.5 else 0.0\n",
    "        ### END CODE HERE ###\n",
    "    \n",
    "    assert(Y_prediction.shape == (1, m))\n",
    "    \n",
    "    return Y_prediction\n",
    "\n",
    "\n",
    "w = np.array([[0.1124579],[0.23106775]])\n",
    "b = -0.3\n",
    "X = np.array([[1.,-1.1,-3.2],[1.2,2.,0.1]])\n",
    "print (\"predictions = \" + str(predict(w, b, X)))\n",
    "\n",
    "\n",
    "\"\"\"\n",
    "------------------------------ Resultado esperado ------------------------------\n",
    "predictions = [[1. 1. 0.]]\n",
    "\"\"\""
   ]
  },
  {
   "cell_type": "markdown",
   "metadata": {
    "id": "sm1Y2rQG9nvt"
   },
   "source": [
    "**Salida esperada**: \n",
    "\n",
    "<table style=\"width:30%\">\n",
    "    <tr>\n",
    "         <td>\n",
    "             predicciones\n",
    "         </td>\n",
    "          <td>\n",
    "            [[ 1.  1.  0.]]\n",
    "         </td>  \n",
    "   </tr>\n",
    "</table>\n",
    "\n",
    "\n",
    "____\n",
    "**Qué recordar:**\n",
    "Ha implementado varias funciones que:\n",
    "- Inicializar (w, b)\n",
    "- Optimice la pérdida de forma iterativa para aprender los parámetros (w, b):\n",
    "     - calcular el costo y su gradiente\n",
    "     - actualización de los parámetros mediante descenso de gradiente\n",
    "- Usar lo aprendido (w, b) para predecir las etiquetas de un conjunto dado de ejemplos\n",
    "____\n",
    "## 5 - Merge all functions into a model ##\n",
    "\n",
    "You will now see how the overall model is structured by putting together all the building blocks (functions implemented in the previous parts) together, in the right order.\n",
    "\n",
    "**Exercise:** Implement the model function. Use the following notation:\n",
    "    - Y_prediction_test for your predictions on the test set\n",
    "    - Y_prediction_train for your predictions on the train set\n",
    "    - w, costs, grads for the outputs of optimize()\n",
    "    \n",
    "____\n",
    "### Anotaciones - Mezclar funciones en un solo Modelo\n",
    "1. Inicializar los parámetros en 0\n",
    "2. Realizar la optimización de los datos con el descenso del gradiente para \n",
    "    1. Parametros --> Obtener los valores definitivos de w y b\n",
    "    2. Gradientes --> Derivadas para depurar\n",
    "    3. Costos --> Verificar y graficar los costos \n",
    "3. Realizar predicciones\n"
   ]
  },
  {
   "cell_type": "code",
   "execution_count": 28,
   "metadata": {
    "id": "EgojzmY-94KL"
   },
   "outputs": [
    {
     "name": "stdout",
     "output_type": "stream",
     "text": [
      "Cost after iteration 0: 0.693147\n",
      "Cost after iteration 100: 0.584508\n",
      "Cost after iteration 200: 0.466949\n",
      "Cost after iteration 300: 0.376007\n",
      "Cost after iteration 400: 0.331463\n",
      "Cost after iteration 500: 0.303273\n",
      "Cost after iteration 600: 0.279880\n",
      "Cost after iteration 700: 0.260042\n",
      "Cost after iteration 800: 0.242941\n",
      "Cost after iteration 900: 0.228004\n",
      "Cost after iteration 1000: 0.214820\n",
      "Cost after iteration 1100: 0.203078\n",
      "Cost after iteration 1200: 0.192544\n",
      "Cost after iteration 1300: 0.183033\n",
      "Cost after iteration 1400: 0.174399\n",
      "Cost after iteration 1500: 0.166521\n",
      "Cost after iteration 1600: 0.159305\n",
      "Cost after iteration 1700: 0.152667\n",
      "Cost after iteration 1800: 0.146542\n",
      "Cost after iteration 1900: 0.140872\n",
      "train accuracy: 99.04306220095694 %\n",
      "test accuracy: 70.0 %\n"
     ]
    },
    {
     "data": {
      "text/plain": [
       "'\\n------------------------------ Resultado esperado ------------------------------\\nCost after iteration 0: 0.693147\\nCost after iteration 100: 0.584508\\nCost after iteration 200: 0.466949\\nCost after iteration 300: 0.376007\\nCost after iteration 400: 0.331463\\nCost after iteration 500: 0.303273\\nCost after iteration 600: 0.279880\\nCost after iteration 700: 0.260042\\nCost after iteration 800: 0.242941\\nCost after iteration 900: 0.228004\\nCost after iteration 1000: 0.214820\\nCost after iteration 1100: 0.203078\\nCost after iteration 1200: 0.192544\\nCost after iteration 1300: 0.183033\\nCost after iteration 1400: 0.174399\\nCost after iteration 1500: 0.166521\\nCost after iteration 1600: 0.159305\\nCost after iteration 1700: 0.152667\\nCost after iteration 1800: 0.146542\\nCost after iteration 1900: 0.140872\\ntrain accuracy: 99.04306220095694 %\\ntest accuracy: 70.0 %\\n'"
      ]
     },
     "execution_count": 28,
     "metadata": {},
     "output_type": "execute_result"
    }
   ],
   "source": [
    "# GRADED FUNCTION: model\n",
    "\n",
    "def model(X_train, Y_train, X_test, Y_test, num_iterations = 2000, learning_rate = 0.5, print_cost = False):\n",
    "    \"\"\"\n",
    "    Builds the logistic regression model by calling the function you've implemented previously\n",
    "    \n",
    "    Arguments:\n",
    "    X_train -- training set represented by a numpy array of shape (num_px * num_px * 3, m_train)\n",
    "    Y_train -- training labels represented by a numpy array (vector) of shape (1, m_train)\n",
    "    X_test -- test set represented by a numpy array of shape (num_px * num_px * 3, m_test)\n",
    "    Y_test -- test labels represented by a numpy array (vector) of shape (1, m_test)\n",
    "    num_iterations -- hyperparameter representing the number of iterations to optimize the parameters\n",
    "    learning_rate -- hyperparameter representing the learning rate used in the update rule of optimize()\n",
    "    print_cost -- Set to true to print the cost every 100 iterations\n",
    "    \n",
    "    Returns:\n",
    "    d -- dictionary containing information about the model.\n",
    "    \"\"\"\n",
    "    \n",
    "    ### START CODE HERE ###\n",
    "    \n",
    "    # initialize parameters with zeros (≈ 1 line of code)\n",
    "    w, b = initialize_with_zeros(X_train.shape[0])\n",
    "\n",
    "    # Gradient descent (≈ 1 line of code)\n",
    "    parameters, grads, costs = optimize(w,b,X_train, Y_train, num_iterations, learning_rate, print_cost)\n",
    "    \n",
    "    # Retrieve parameters w and b from dictionary \"parameters\"\n",
    "    w = parameters[\"w\"]\n",
    "    b = parameters[\"b\"]\n",
    "    \n",
    "    # Predict test/train set examples (≈ 2 lines of code)\n",
    "    Y_prediction_test = predict(w, b, X_test)\n",
    "    Y_prediction_train =  predict(w, b, X_train)\n",
    "\n",
    "    ### END CODE HERE ###\n",
    "\n",
    "    # Print train/test Errors\n",
    "    print(\"train accuracy: {} %\".format(100 - np.mean(np.abs(Y_prediction_train - Y_train)) * 100))\n",
    "    print(\"test accuracy: {} %\".format(100 - np.mean(np.abs(Y_prediction_test - Y_test)) * 100))\n",
    "\n",
    "    \n",
    "    d = {\"costs\": costs,\n",
    "         \"Y_prediction_test\": Y_prediction_test, \n",
    "         \"Y_prediction_train\" : Y_prediction_train, \n",
    "         \"w\" : w, \n",
    "         \"b\" : b,\n",
    "         \"learning_rate\" : learning_rate,\n",
    "         \"num_iterations\": num_iterations}\n",
    "    \n",
    "    return d\n",
    "\n",
    "d = model(train_set_x, train_set_y, test_set_x, test_set_y, num_iterations = 2000, learning_rate = 0.005, print_cost = True)\n",
    "\n",
    "\"\"\"\n",
    "------------------------------ Resultado esperado ------------------------------\n",
    "Cost after iteration 0: 0.693147\n",
    "Cost after iteration 100: 0.584508\n",
    "Cost after iteration 200: 0.466949\n",
    "Cost after iteration 300: 0.376007\n",
    "Cost after iteration 400: 0.331463\n",
    "Cost after iteration 500: 0.303273\n",
    "Cost after iteration 600: 0.279880\n",
    "Cost after iteration 700: 0.260042\n",
    "Cost after iteration 800: 0.242941\n",
    "Cost after iteration 900: 0.228004\n",
    "Cost after iteration 1000: 0.214820\n",
    "Cost after iteration 1100: 0.203078\n",
    "Cost after iteration 1200: 0.192544\n",
    "Cost after iteration 1300: 0.183033\n",
    "Cost after iteration 1400: 0.174399\n",
    "Cost after iteration 1500: 0.166521\n",
    "Cost after iteration 1600: 0.159305\n",
    "Cost after iteration 1700: 0.152667\n",
    "Cost after iteration 1800: 0.146542\n",
    "Cost after iteration 1900: 0.140872\n",
    "train accuracy: 99.04306220095694 %\n",
    "test accuracy: 70.0 %\n",
    "\"\"\""
   ]
  },
  {
   "cell_type": "markdown",
   "metadata": {
    "id": "buu-J7TM-W1F"
   },
   "source": [
    "**Salida esperada**: \n",
    "\n",
    "<table style=\"width:40%\">\n",
    "    <tr>\n",
    "        <td> Cost after iteration 0   </td> \n",
    "        <td> 0.693147 </td>\n",
    "    </tr>\n",
    "      <tr>\n",
    "        <td> <center> $\\vdots$ </center> </td> \n",
    "        <td> <center> $\\vdots$ </center> </td> \n",
    "    </tr>  \n",
    "    <tr>\n",
    "        <td> Train Accuracy  </td> \n",
    "        <td> 99.04306220095694 % </td>\n",
    "    </tr>\n",
    "    <tr>\n",
    "        <td>Test Accuracy </td> \n",
    "        <td> 70.0 % </td>\n",
    "    </tr>\n",
    "</table> \n",
    "\n",
    "____\n",
    "\n",
    "**Comentario**: La precisión del entrenamiento es cercana al 100%. Esta es una buena verificación de cordura: su modelo está funcionando y tiene una capacidad lo suficientemente alta para ajustarse a los datos de entrenamiento. La precisión de la prueba es del 68%. En realidad, no es malo para este modelo simple, dado el pequeño conjunto de datos que usamos y que la regresión logística es un clasificador lineal. Pero no se preocupe, ¡creará un clasificador aún mejor la próxima semana!\n",
    "\n",
    "Además, verá que el modelo claramente sobreajusta los datos de entrenamiento. Más adelante en esta especialización, aprenderá a reducir el sobreajuste, por ejemplo, mediante la regularización. Usando el siguiente código (y cambiando la variable `index`) puede ver las predicciones en las imágenes del conjunto de prueba.\n",
    "\n",
    "### Anotaciones - Overfiting o Sobreajuste\n",
    "* Para mejorar la forma de generalizar del modelo se puede hacer uso de una cantidad mayor de datos o crear redes neurales más grande\n",
    "* El ** Overfiting o Sobreajuste ** Se da cuando el modelo se apega a los datos de entrenamiento y no es capaz de generalizar con los datos de prueba\n",
    "    1. Para tratar el Sobreajuste se usa la regularización\n",
    "    2. Si se realizan más iteraciones en el descenso del gradiente se puden obtener costos más bajos, pero eso implica una mayor precisión de entrenamiento pero no necesariamente en los datos de prueba y podría inducir a un overfiting o sobreajuste mayor\n",
    "    \n",
    "    \n",
    "### Regularización\n",
    "\n",
    "[Técnicas de Regularización Básicas para Redes Neuronales] (https://medium.com/metadatos/t%C3%A9cnicas-de-regularizaci%C3%B3n-b%C3%A1sicas-para-redes-neuronales-b48f396924d4)\n",
    "\n",
    "[Una aproximación a la regularización de redes cascada-correlación para la predicción de series de tiempo] aproximacion-a-la-regularizacion-de-redes-cascada-correlacion-para-la-prediccion-de-series-de-tiempo.pdf)\n",
    "\n",
    "\n",
    "\n"
   ]
  },
  {
   "cell_type": "code",
   "execution_count": 29,
   "metadata": {
    "id": "XfFBheaZ-qzT"
   },
   "outputs": [
    {
     "name": "stdout",
     "output_type": "stream",
     "text": [
      "y = 1, you predicted that it is a \"cat\" picture.\n"
     ]
    },
    {
     "data": {
      "image/png": "[encoded data removed]",
      "text/plain": [
       "<Figure size 432x288 with 1 Axes>"
      ]
     },
     "metadata": {
      "needs_background": "light"
     },
     "output_type": "display_data"
    }
   ],
   "source": [
    "# Example of a picture that was wrongly classified.\n",
    "index = 3\n",
    "plt.imshow(test_set_x[:,index].reshape((num_px, num_px, 3)))\n",
    "print (\"y = \" + str(test_set_y[0,index]) + \", you predicted that it is a \\\"\" + classes[int(d[\"Y_prediction_test\"][0,index])].decode(\"utf-8\") +  \"\\\" picture.\")\n",
    "\n",
    "\"\"\"\n",
    "------------------------------ Resultado esperado ------------------------------\n",
    "y = 1, you predicted that it is a \"non-cat\" picture.\n",
    "\"\"\"\n",
    "\n",
    "# Plot learning curve (with costs)\n",
    "costs = np.squeeze(d['costs'])\n",
    "plt.plot(costs)\n",
    "plt.ylabel('cost')\n",
    "plt.xlabel('iterations (per hundreds)')\n",
    "plt.title(\"Learning rate =\" + str(d[\"learning_rate\"]))\n",
    "plt.show()"
   ]
  },
  {
   "cell_type": "markdown",
   "metadata": {
    "id": "OPVG88jG-80D"
   },
   "source": [
    "**Interpretación**:\n",
    "Puede ver que el costo disminuye. Muestra que se están aprendiendo los parámetros. Sin embargo, verá que podría entrenar el modelo aún más en el conjunto de entrenamiento. Intente aumentar el número de iteraciones en la celda de arriba y vuelva a ejecutar las celdas. Es posible que vea que la precisión del conjunto de entrenamiento aumenta, pero la precisión del conjunto de prueba disminuye. A esto se le llama sobreajuste.\n",
    "\n",
    "![learning rate](https://drive.google.com/uc?export=view&id=1IvCcu7w--BYTfSMWMqtaFW01WitsXWT8)\n",
    "\n",
    "_____\n",
    "## 6 - Análisis adicional (ejercicio opcional / sin calificar) ##\n",
    "\n",
    "Felicitaciones por crear su primer modelo de clasificación de imágenes. Analicémoslo más a fondo y examinemos las posibles opciones para la tasa de aprendizaje $\\alpha$.\n",
    "\n",
    "#### Elección de la tasa de aprendizaje ####\n",
    "\n",
    "**Recordatorio**:\n",
    "Para que Gradient Descent funcione, debe elegir la velocidad de aprendizaje con prudencia. La tasa de aprendizaje $ \\ alpha $ determina la rapidez con la que actualizamos los parámetros. Si la tasa de aprendizaje es demasiado grande, podemos \"sobrepasar\" el valor óptimo. Del mismo modo, si es demasiado pequeño, necesitaremos demasiadas iteraciones para converger a los mejores valores. Por eso es fundamental utilizar una tasa de aprendizaje bien ajustada.\n",
    "\n",
    "Comparemos la curva de aprendizaje de nuestro modelo con varias opciones de tasas de aprendizaje. Ejecute la celda a continuación. Esto debería tomar alrededor de 1 minuto. Siéntase libre de probar valores diferentes a los tres que hemos inicializado para contener la variable `learning_rates` y ver qué sucede.\n",
    "\n",
    "____\n",
    "### Anotaciones - Determinar un learning rate o ritmo de aprendizaje\n",
    "* Se hace uso de prueba y error utilizando posibles ritmos de aprendizaje para determinar cual es el ritmo de aprendizaje que consigue mejores resultados se hace un entrenamiento usando los ritmos propuestos y luego se grafican\n",
    "* El costo está relacionado con la presición"
   ]
  },
  {
   "cell_type": "code",
   "execution_count": 30,
   "metadata": {
    "id": "zbrAh38hArmX"
   },
   "outputs": [
    {
     "name": "stdout",
     "output_type": "stream",
     "text": [
      "learning rate is: 0.01\n",
      "train accuracy: 99.52153110047847 %\n",
      "test accuracy: 68.0 %\n",
      "\n",
      "-------------------------------------------------------\n",
      "\n",
      "learning rate is: 0.001\n",
      "train accuracy: 88.99521531100478 %\n",
      "test accuracy: 64.0 %\n",
      "\n",
      "-------------------------------------------------------\n",
      "\n",
      "learning rate is: 0.0001\n",
      "train accuracy: 68.42105263157895 %\n",
      "test accuracy: 36.0 %\n",
      "\n",
      "-------------------------------------------------------\n",
      "\n"
     ]
    },
    {
     "data": {
      "image/png": "[encoded data removed]",
      "text/plain": [
       "<Figure size 432x288 with 1 Axes>"
      ]
     },
     "metadata": {
      "needs_background": "light"
     },
     "output_type": "display_data"
    },
    {
     "data": {
      "text/plain": [
       "'\\n------------------------------ Resultado esperado ------------------------------\\n\\nlearning rate is: 0.01\\ntrain accuracy: 99.52153110047847 %\\ntest accuracy: 68.0 %\\n\\n-------------------------------------------------------\\n\\nlearning rate is: 0.001\\ntrain accuracy: 88.99521531100478 %\\ntest accuracy: 64.0 %\\n\\n-------------------------------------------------------\\n\\nlearning rate is: 0.0001\\ntrain accuracy: 68.42105263157895 %\\ntest accuracy: 36.0 %\\n\\n-------------------------------------------------------\\n\\n'"
      ]
     },
     "execution_count": 30,
     "metadata": {},
     "output_type": "execute_result"
    }
   ],
   "source": [
    "learning_rates = [0.01, 0.001, 0.0001]\n",
    "models = {}\n",
    "for i in learning_rates:\n",
    "    print (\"learning rate is: \" + str(i))\n",
    "    models[str(i)] = model(train_set_x, train_set_y, test_set_x, test_set_y, num_iterations = 1500, learning_rate = i, print_cost = False)\n",
    "    print ('\\n' + \"-------------------------------------------------------\" + '\\n')\n",
    "\n",
    "for i in learning_rates:\n",
    "    plt.plot(np.squeeze(models[str(i)][\"costs\"]), label= str(models[str(i)][\"learning_rate\"]))\n",
    "\n",
    "plt.ylabel('cost')\n",
    "plt.xlabel('iterations (hundreds)')\n",
    "\n",
    "legend = plt.legend(loc='upper center', shadow=True)\n",
    "frame = legend.get_frame()\n",
    "frame.set_facecolor('0.90')\n",
    "plt.show()\n",
    "\n",
    "\"\"\"\n",
    "------------------------------ Resultado esperado ------------------------------\n",
    "\n",
    "learning rate is: 0.01\n",
    "train accuracy: 99.52153110047847 %\n",
    "test accuracy: 68.0 %\n",
    "\n",
    "-------------------------------------------------------\n",
    "\n",
    "learning rate is: 0.001\n",
    "train accuracy: 88.99521531100478 %\n",
    "test accuracy: 64.0 %\n",
    "\n",
    "-------------------------------------------------------\n",
    "\n",
    "learning rate is: 0.0001\n",
    "train accuracy: 68.42105263157895 %\n",
    "test accuracy: 36.0 %\n",
    "\n",
    "-------------------------------------------------------\n",
    "\n",
    "\"\"\""
   ]
  },
  {
   "cell_type": "markdown",
   "metadata": {
    "id": "d13f-o9GAx6O"
   },
   "source": [
    "\n",
    "![dZ vectorizado](https://drive.google.com/uc?export=view&id=1IsuERqIjX8XMR6D9dd73HdDACuM84kZL)\n",
    "____\n",
    "**Interpretación**:\n",
    "- Diferentes tasas de aprendizaje dan diferentes costos y, por lo tanto, diferentes resultados de predicciones.\n",
    "- Si la tasa de aprendizaje es demasiado grande (0.01), el costo puede oscilar hacia arriba y hacia abajo. Incluso puede divergir (aunque en este ejemplo, el uso de 0.01 eventualmente termina teniendo un buen valor por el costo).\n",
    "- Un menor costo no significa un mejor modelo. Tienes que comprobar si existe un sobreajuste. Ocurre cuando la precisión del entrenamiento es mucho mayor que la precisión de la prueba.\n",
    "- En el aprendizaje profundo, normalmente le recomendamos que:\n",
    "     - Elija la tasa de aprendizaje que minimice mejor la función de costo.\n",
    "     - Si su modelo se sobreajusta, utilice otras técnicas para reducir el sobreajuste. (Hablaremos de esto en videos posteriores).\n",
    "____\n",
    "## 7 - Prueba con tu propia imagen (ejercicio opcional / sin calificar) ##\n",
    "\n",
    "Felicitaciones por terminar esta tarea. Puede usar su propia imagen y ver el resultado de su modelo. Para hacer eso:\n",
    "     1. Haga clic en \"Archivo\" en la barra superior de este cuaderno, luego haga clic en \"Abrir\" para ir a su Coursera Hub.\n",
    "     2. Agregue su imagen al directorio de este Jupyter Notebook, en la carpeta \"imágenes\"\n",
    "     3. Cambie el nombre de su imagen en el siguiente código\n",
    "     4. Ejecute el código y compruebe si el algoritmo es correcto (1 = gato, 0 = no gato).\n",
    "\n",
    "\n",
    "     "
   ]
  },
  {
   "cell_type": "code",
   "execution_count": 31,
   "metadata": {
    "id": "ClAGIO5pBRgH"
   },
   "outputs": [
    {
     "ename": "AttributeError",
     "evalue": "module 'scipy.ndimage' has no attribute 'imread'",
     "output_type": "error",
     "traceback": [
      "\u001b[0;31m---------------------------------------------------------------------------\u001b[0m",
      "\u001b[0;31mAttributeError\u001b[0m                            Traceback (most recent call last)",
      "\u001b[0;32m<ipython-input-31-38cf3dc30572>\u001b[0m in \u001b[0;36m<module>\u001b[0;34m\u001b[0m\n\u001b[1;32m      5\u001b[0m \u001b[0;31m# We preprocess the image to fit your algorithm.\u001b[0m\u001b[0;34m\u001b[0m\u001b[0;34m\u001b[0m\u001b[0;34m\u001b[0m\u001b[0m\n\u001b[1;32m      6\u001b[0m \u001b[0mfname\u001b[0m \u001b[0;34m=\u001b[0m \u001b[0;34m\"images/\"\u001b[0m \u001b[0;34m+\u001b[0m \u001b[0mmy_image\u001b[0m\u001b[0;34m\u001b[0m\u001b[0;34m\u001b[0m\u001b[0m\n\u001b[0;32m----> 7\u001b[0;31m \u001b[0mimage\u001b[0m \u001b[0;34m=\u001b[0m \u001b[0mnp\u001b[0m\u001b[0;34m.\u001b[0m\u001b[0marray\u001b[0m\u001b[0;34m(\u001b[0m\u001b[0mndimage\u001b[0m\u001b[0;34m.\u001b[0m\u001b[0mimread\u001b[0m\u001b[0;34m(\u001b[0m\u001b[0mfname\u001b[0m\u001b[0;34m,\u001b[0m \u001b[0mflatten\u001b[0m\u001b[0;34m=\u001b[0m\u001b[0;32mFalse\u001b[0m\u001b[0;34m)\u001b[0m\u001b[0;34m)\u001b[0m\u001b[0;34m\u001b[0m\u001b[0;34m\u001b[0m\u001b[0m\n\u001b[0m\u001b[1;32m      8\u001b[0m \u001b[0mimage\u001b[0m \u001b[0;34m=\u001b[0m \u001b[0mimage\u001b[0m\u001b[0;34m/\u001b[0m\u001b[0;36m255.\u001b[0m\u001b[0;34m\u001b[0m\u001b[0;34m\u001b[0m\u001b[0m\n\u001b[1;32m      9\u001b[0m \u001b[0mmy_image\u001b[0m \u001b[0;34m=\u001b[0m \u001b[0mndimage\u001b[0m\u001b[0;34m.\u001b[0m\u001b[0mimresize\u001b[0m\u001b[0;34m(\u001b[0m\u001b[0mimage\u001b[0m\u001b[0;34m,\u001b[0m \u001b[0msize\u001b[0m\u001b[0;34m=\u001b[0m\u001b[0;34m(\u001b[0m\u001b[0mnum_px\u001b[0m\u001b[0;34m,\u001b[0m\u001b[0mnum_px\u001b[0m\u001b[0;34m)\u001b[0m\u001b[0;34m)\u001b[0m\u001b[0;34m.\u001b[0m\u001b[0mreshape\u001b[0m\u001b[0;34m(\u001b[0m\u001b[0;34m(\u001b[0m\u001b[0;36m1\u001b[0m\u001b[0;34m,\u001b[0m \u001b[0mnum_px\u001b[0m\u001b[0;34m*\u001b[0m\u001b[0mnum_px\u001b[0m\u001b[0;34m*\u001b[0m\u001b[0;36m3\u001b[0m\u001b[0;34m)\u001b[0m\u001b[0;34m)\u001b[0m\u001b[0;34m.\u001b[0m\u001b[0mT\u001b[0m\u001b[0;34m\u001b[0m\u001b[0;34m\u001b[0m\u001b[0m\n",
      "\u001b[0;31mAttributeError\u001b[0m: module 'scipy.ndimage' has no attribute 'imread'"
     ]
    }
   ],
   "source": [
    "## START CODE HERE ## (PUT YOUR IMAGE NAME) \n",
    "my_image = \"my_image.jpg\"   # change this to the name of your image file \n",
    "## END CODE HERE ##\n",
    "\n",
    "# We preprocess the image to fit your algorithm.\n",
    "fname = \"images/\" + my_image\n",
    "image = np.array(ndimage.imread(fname, flatten=False))\n",
    "image = image/255.\n",
    "my_image = ndimage.imresize(image, size=(num_px,num_px)).reshape((1, num_px*num_px*3)).T\n",
    "my_predicted_image = predict(d[\"w\"], d[\"b\"], my_image)\n",
    "\n",
    "plt.imshow(image)\n",
    "print(\"y = \" + str(np.squeeze(my_predicted_image)) + \", your algorithm predicts a \\\"\" + classes[int(np.squeeze(my_predicted_image)),].decode(\"utf-8\") +  \"\\\" picture.\")"
   ]
  },
  {
   "cell_type": "markdown",
   "metadata": {
    "id": "cK3J4imJBVOP"
   },
   "source": [
    "\n",
    "**Qué recordar de esta tarea:**\n",
    "1. El preprocesamiento del conjunto de datos es importante.\n",
    "2. Implementó cada función por separado: inicializar (), propagar (), optimizar (). Luego construiste un modelo ().\n",
    "3. Ajustar la tasa de aprendizaje (que es un ejemplo de un \"hiperparámetro\") puede marcar una gran diferencia en el algoritmo. ¡Verás más ejemplos de esto más adelante en este curso!\n",
    "\n",
    "____\n",
    "Finalmente, si lo desea, lo invitamos a probar diferentes cosas en este Cuaderno. Asegúrate de enviarlo antes de intentar cualquier cosa. Una vez que envíe, las cosas con las que puede jugar incluyen:\n",
    "     - Juega con la tasa de aprendizaje y el número de iteraciones.\n",
    "     - Pruebe diferentes métodos de inicialización y compare los resultados\n",
    "     - Pruebe otros preprocesos (centre los datos o divida cada fila por su desviación estándar)\n",
    "____\n",
    "  \n",
    "Bibliografia:\n",
    "- http://www.wildml.com/2015/09/implementing-a-neural-network-from-scratch/\n",
    "- https://stats.stackexchange.com/questions/211436/why-do-we-normalize-images-by-subtracting-the-datasets-image-mean-and-not-the-c"
   ]
  }
 ],
 "metadata": {
  "colab": {
   "collapsed_sections": [],
   "name": "Clase_0301-0304.ipynb",
   "provenance": []
  },
  "kernelspec": {
   "display_name": "Python 3",
   "language": "python",
   "name": "python3"
  },
  "language_info": {
   "codemirror_mode": {
    "name": "ipython",
    "version": 3
   },
   "file_extension": ".py",
   "mimetype": "text/x-python",
   "name": "python",
   "nbconvert_exporter": "python",
   "pygments_lexer": "ipython3",
   "version": "3.8.10"
  }
 },
 "nbformat": 4,
 "nbformat_minor": 1
}
